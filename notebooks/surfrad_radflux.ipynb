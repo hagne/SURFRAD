{
 "cells": [
  {
   "cell_type": "markdown",
   "id": "a5fc10fa-4636-4354-b534-cb3d9f3f788e",
   "metadata": {},
   "source": [
    "# Convert Chucks format to netcdf"
   ]
  },
  {
   "cell_type": "code",
   "execution_count": 1,
   "id": "3ddbe714-82ef-4a9c-9224-d0e901589ac4",
   "metadata": {
    "execution": {
     "iopub.execute_input": "2024-09-30T16:19:10.260232Z",
     "iopub.status.busy": "2024-09-30T16:19:10.259831Z",
     "iopub.status.idle": "2024-09-30T16:19:10.265765Z",
     "shell.execute_reply": "2024-09-30T16:19:10.264853Z",
     "shell.execute_reply.started": "2024-09-30T16:19:10.260193Z"
    }
   },
   "outputs": [],
   "source": [
    "#import atmPy.radiation.radflux.convert2netcdf as atmrf"
   ]
  },
  {
   "cell_type": "code",
   "execution_count": 46,
   "id": "a8996460-b88b-49d3-84d6-3674adcb8dac",
   "metadata": {
    "execution": {
     "iopub.execute_input": "2024-09-30T17:16:12.811502Z",
     "iopub.status.busy": "2024-09-30T17:16:12.810971Z",
     "iopub.status.idle": "2024-09-30T17:16:12.817493Z",
     "shell.execute_reply": "2024-09-30T17:16:12.816129Z",
     "shell.execute_reply.started": "2024-09-30T17:16:12.811457Z"
    }
   },
   "outputs": [],
   "source": [
    "import surfradpy.radflux2netcdf as srfr2nc"
   ]
  },
  {
   "cell_type": "code",
   "execution_count": 114,
   "id": "2bbd631c-e36e-4f43-94df-10626fc11233",
   "metadata": {
    "execution": {
     "iopub.execute_input": "2024-09-30T17:45:22.300969Z",
     "iopub.status.busy": "2024-09-30T17:45:22.300457Z",
     "iopub.status.idle": "2024-09-30T17:45:22.312150Z",
     "shell.execute_reply": "2024-09-30T17:45:22.310944Z",
     "shell.execute_reply.started": "2024-09-30T17:45:22.300930Z"
    }
   },
   "outputs": [
    {
     "data": {
      "text/plain": [
       "<module 'surfradpy.radflux2netcdf' from '/home/grad/htelg/prog_dev/SURFRAD/surfradpy/radflux2netcdf.py'>"
      ]
     },
     "execution_count": 114,
     "metadata": {},
     "output_type": "execute_result"
    }
   ],
   "source": [
    "reload(srfr2nc)"
   ]
  },
  {
   "cell_type": "code",
   "execution_count": 126,
   "id": "035bc296-9099-4070-906c-ef8179e87698",
   "metadata": {
    "execution": {
     "iopub.execute_input": "2024-09-30T17:46:08.720839Z",
     "iopub.status.busy": "2024-09-30T17:46:08.720304Z",
     "iopub.status.idle": "2024-09-30T17:46:08.728412Z",
     "shell.execute_reply": "2024-09-30T17:46:08.726625Z",
     "shell.execute_reply.started": "2024-09-30T17:46:08.720792Z"
    }
   },
   "outputs": [],
   "source": [
    "rfi = srfr2nc.Convert(path2fld_in='/nfs/iftp/aftp/g-rad/surfrad/RadFlux/',    \n",
    "                      path2fld_out='/nfs/grad/surfrad/products_level4/radflux/v{version}/',    \n",
    "                      sites=['tbl',], #'dra', 'fpk', 'gwn', 'psu', 'sxf', 'bon'],    \n",
    "                      start='14 days',    \n",
    "                      overwrite=True,\n",
    "                     reporter = None)"
   ]
  },
  {
   "cell_type": "code",
   "execution_count": 127,
   "id": "26a47bb9-5a7d-43fa-b8fc-b5dba261cd39",
   "metadata": {
    "execution": {
     "iopub.execute_input": "2024-09-30T17:46:10.243206Z",
     "iopub.status.busy": "2024-09-30T17:46:10.242726Z",
     "iopub.status.idle": "2024-09-30T17:46:10.299723Z",
     "shell.execute_reply": "2024-09-30T17:46:10.299335Z",
     "shell.execute_reply.started": "2024-09-30T17:46:10.243168Z"
    }
   },
   "outputs": [
    {
     "data": {
      "text/html": [
       "<div>\n",
       "<style scoped>\n",
       "    .dataframe tbody tr th:only-of-type {\n",
       "        vertical-align: middle;\n",
       "    }\n",
       "\n",
       "    .dataframe tbody tr th {\n",
       "        vertical-align: top;\n",
       "    }\n",
       "\n",
       "    .dataframe thead th {\n",
       "        text-align: right;\n",
       "    }\n",
       "</style>\n",
       "<table border=\"1\" class=\"dataframe\">\n",
       "  <thead>\n",
       "    <tr style=\"text-align: right;\">\n",
       "      <th></th>\n",
       "      <th>p2f_in</th>\n",
       "      <th>site</th>\n",
       "      <th>p2f_out</th>\n",
       "    </tr>\n",
       "    <tr>\n",
       "      <th>date</th>\n",
       "      <th></th>\n",
       "      <th></th>\n",
       "      <th></th>\n",
       "    </tr>\n",
       "  </thead>\n",
       "  <tbody>\n",
       "    <tr>\n",
       "      <th>2024-09-17</th>\n",
       "      <td>/nfs/iftp/aftp/g-rad/surfrad/RadFlux/tbl/2024/...</td>\n",
       "      <td>tbl</td>\n",
       "      <td>/nfs/grad/surfrad/products_level4/radflux/v1.0...</td>\n",
       "    </tr>\n",
       "    <tr>\n",
       "      <th>2024-09-18</th>\n",
       "      <td>/nfs/iftp/aftp/g-rad/surfrad/RadFlux/tbl/2024/...</td>\n",
       "      <td>tbl</td>\n",
       "      <td>/nfs/grad/surfrad/products_level4/radflux/v1.0...</td>\n",
       "    </tr>\n",
       "    <tr>\n",
       "      <th>2024-09-19</th>\n",
       "      <td>/nfs/iftp/aftp/g-rad/surfrad/RadFlux/tbl/2024/...</td>\n",
       "      <td>tbl</td>\n",
       "      <td>/nfs/grad/surfrad/products_level4/radflux/v1.0...</td>\n",
       "    </tr>\n",
       "    <tr>\n",
       "      <th>2024-09-20</th>\n",
       "      <td>/nfs/iftp/aftp/g-rad/surfrad/RadFlux/tbl/2024/...</td>\n",
       "      <td>tbl</td>\n",
       "      <td>/nfs/grad/surfrad/products_level4/radflux/v1.0...</td>\n",
       "    </tr>\n",
       "    <tr>\n",
       "      <th>2024-09-21</th>\n",
       "      <td>/nfs/iftp/aftp/g-rad/surfrad/RadFlux/tbl/2024/...</td>\n",
       "      <td>tbl</td>\n",
       "      <td>/nfs/grad/surfrad/products_level4/radflux/v1.0...</td>\n",
       "    </tr>\n",
       "    <tr>\n",
       "      <th>2024-09-22</th>\n",
       "      <td>/nfs/iftp/aftp/g-rad/surfrad/RadFlux/tbl/2024/...</td>\n",
       "      <td>tbl</td>\n",
       "      <td>/nfs/grad/surfrad/products_level4/radflux/v1.0...</td>\n",
       "    </tr>\n",
       "    <tr>\n",
       "      <th>2024-09-23</th>\n",
       "      <td>/nfs/iftp/aftp/g-rad/surfrad/RadFlux/tbl/2024/...</td>\n",
       "      <td>tbl</td>\n",
       "      <td>/nfs/grad/surfrad/products_level4/radflux/v1.0...</td>\n",
       "    </tr>\n",
       "  </tbody>\n",
       "</table>\n",
       "</div>"
      ],
      "text/plain": [
       "                                                       p2f_in site  \\\n",
       "date                                                                 \n",
       "2024-09-17  /nfs/iftp/aftp/g-rad/surfrad/RadFlux/tbl/2024/...  tbl   \n",
       "2024-09-18  /nfs/iftp/aftp/g-rad/surfrad/RadFlux/tbl/2024/...  tbl   \n",
       "2024-09-19  /nfs/iftp/aftp/g-rad/surfrad/RadFlux/tbl/2024/...  tbl   \n",
       "2024-09-20  /nfs/iftp/aftp/g-rad/surfrad/RadFlux/tbl/2024/...  tbl   \n",
       "2024-09-21  /nfs/iftp/aftp/g-rad/surfrad/RadFlux/tbl/2024/...  tbl   \n",
       "2024-09-22  /nfs/iftp/aftp/g-rad/surfrad/RadFlux/tbl/2024/...  tbl   \n",
       "2024-09-23  /nfs/iftp/aftp/g-rad/surfrad/RadFlux/tbl/2024/...  tbl   \n",
       "\n",
       "                                                      p2f_out  \n",
       "date                                                           \n",
       "2024-09-17  /nfs/grad/surfrad/products_level4/radflux/v1.0...  \n",
       "2024-09-18  /nfs/grad/surfrad/products_level4/radflux/v1.0...  \n",
       "2024-09-19  /nfs/grad/surfrad/products_level4/radflux/v1.0...  \n",
       "2024-09-20  /nfs/grad/surfrad/products_level4/radflux/v1.0...  \n",
       "2024-09-21  /nfs/grad/surfrad/products_level4/radflux/v1.0...  \n",
       "2024-09-22  /nfs/grad/surfrad/products_level4/radflux/v1.0...  \n",
       "2024-09-23  /nfs/grad/surfrad/products_level4/radflux/v1.0...  "
      ]
     },
     "execution_count": 127,
     "metadata": {},
     "output_type": "execute_result"
    }
   ],
   "source": [
    "rfi.workplan"
   ]
  },
  {
   "cell_type": "markdown",
   "id": "ab7f92ad-f7e4-4e76-823a-d3fa440d5424",
   "metadata": {
    "execution": {
     "iopub.execute_input": "2024-09-30T17:22:18.888624Z",
     "iopub.status.busy": "2024-09-30T17:22:18.888102Z",
     "iopub.status.idle": "2024-09-30T17:22:19.658610Z",
     "shell.execute_reply": "2024-09-30T17:22:19.657700Z",
     "shell.execute_reply.started": "2024-09-30T17:22:18.888581Z"
    }
   },
   "source": [
    "# Run the skript for testing"
   ]
  },
  {
   "cell_type": "code",
   "execution_count": 95,
   "id": "37872c37-e052-47ae-bfbe-04052ecac25a",
   "metadata": {
    "execution": {
     "iopub.execute_input": "2024-09-30T17:41:43.058710Z",
     "iopub.status.busy": "2024-09-30T17:41:43.058185Z",
     "iopub.status.idle": "2024-09-30T17:41:43.131875Z",
     "shell.execute_reply": "2024-09-30T17:41:43.130571Z",
     "shell.execute_reply.started": "2024-09-30T17:41:43.058667Z"
    }
   },
   "outputs": [],
   "source": [
    "import surfradpy.scripts.radflux2netcdf as srfr2ncs"
   ]
  },
  {
   "cell_type": "code",
   "execution_count": 131,
   "id": "fd8c2089-924e-4092-8f10-220a0050be11",
   "metadata": {
    "execution": {
     "iopub.execute_input": "2024-09-30T17:46:32.172732Z",
     "iopub.status.busy": "2024-09-30T17:46:32.172055Z",
     "iopub.status.idle": "2024-09-30T17:46:32.182793Z",
     "shell.execute_reply": "2024-09-30T17:46:32.181921Z",
     "shell.execute_reply.started": "2024-09-30T17:46:32.172688Z"
    }
   },
   "outputs": [
    {
     "data": {
      "text/plain": [
       "<module 'surfradpy.radflux2netcdf' from '/home/grad/htelg/prog_dev/SURFRAD/surfradpy/radflux2netcdf.py'>"
      ]
     },
     "execution_count": 131,
     "metadata": {},
     "output_type": "execute_result"
    }
   ],
   "source": [
    "reload(srfr2ncs)\n",
    "reload(srfr2ncs.srfr2nc)"
   ]
  },
  {
   "cell_type": "code",
   "execution_count": 132,
   "id": "c6a544b4-8223-483f-a09d-96ed55e6b9b4",
   "metadata": {
    "execution": {
     "iopub.execute_input": "2024-09-30T17:46:33.087312Z",
     "iopub.status.busy": "2024-09-30T17:46:33.086792Z",
     "iopub.status.idle": "2024-09-30T17:46:36.441163Z",
     "shell.execute_reply": "2024-09-30T17:46:36.440435Z",
     "shell.execute_reply.started": "2024-09-30T17:46:33.087271Z"
    },
    "scrolled": true
   },
   "outputs": [
    {
     "name": "stdout",
     "output_type": "stream",
     "text": [
      "start time: 2024-09-30 11:46:33.089138\n",
      "workplan.shape: (7, 3)\n",
      "number of cleanes: 7\n",
      "number of errors: 0\n",
      "number of warnings: 0\n",
      "time finished: 2024-09-30 11:46:36.435578\n",
      "total processing time: 0.0009295666666666667 hours\n"
     ]
    }
   ],
   "source": [
    "reporter = srfr2ncs.main()"
   ]
  },
  {
   "cell_type": "code",
   "execution_count": 134,
   "id": "ece4544e-76e6-41d2-9b98-fcc4ebcd3c40",
   "metadata": {
    "execution": {
     "iopub.execute_input": "2024-09-30T17:51:12.769546Z",
     "iopub.status.busy": "2024-09-30T17:51:12.768951Z",
     "iopub.status.idle": "2024-09-30T17:51:12.901667Z",
     "shell.execute_reply": "2024-09-30T17:51:12.899783Z",
     "shell.execute_reply.started": "2024-09-30T17:51:12.769483Z"
    }
   },
   "outputs": [
    {
     "name": "stdout",
     "output_type": "stream",
     "text": [
      "datetime,rund_status,error,success,warning,subprocess,server,comment\n",
      "2024-09-30 11:44:46.713307,0,0,0,0,radflux2netcdf,telg2.cmdl.noaa.gov,\n",
      "2024-09-30 11:46:36.437245,0,0,7,0,radflux2netcdf,telg2.cmdl.noaa.gov,\n"
     ]
    }
   ],
   "source": [
    "!tail /home/grad/htelg/.processlogs/radflux2netcdf.log"
   ]
  },
  {
   "cell_type": "markdown",
   "id": "b1ac5b0d-79fe-4ded-9bca-605e10ec7b6b",
   "metadata": {},
   "source": [
    "# Development"
   ]
  },
  {
   "cell_type": "markdown",
   "id": "7c401a54-143e-4da3-9772-4274ffebd4cf",
   "metadata": {},
   "source": [
    "## find Variable names and info"
   ]
  },
  {
   "cell_type": "markdown",
   "id": "ccb57164-de93-437f-8a41-d02380a1ec0a",
   "metadata": {},
   "source": [
    "https://gml.noaa.gov/aftp/data/radiation/surfrad/RadFlux/RadFlux_ReadMe.txt"
   ]
  },
  {
   "cell_type": "code",
   "execution_count": 24,
   "id": "5ee2d2cd-631c-4c1a-b442-d4e8bf1fcaed",
   "metadata": {
    "execution": {
     "iopub.execute_input": "2024-01-24T00:17:24.912867Z",
     "iopub.status.busy": "2024-01-24T00:17:24.912185Z",
     "iopub.status.idle": "2024-01-24T00:17:24.923288Z",
     "shell.execute_reply": "2024-01-24T00:17:24.921295Z",
     "shell.execute_reply.started": "2024-01-24T00:17:24.912813Z"
    }
   },
   "outputs": [],
   "source": [
    "varinfo = '''Zdate\t\tdate in YYYYMMDD format, based on GMT\n",
    "Ztim\t\ttime in hhmm format, based on GMT\n",
    "Ldate\t\tdate in YYYYMMDD format, based on LST\n",
    "Ltim\t\ttime in hhmm format, based on LST\n",
    "CosZ\t\tCosine of the solar zenith angle\n",
    "AU\t\tearth-sun distance in AUs\n",
    "SWdn\t\tbest estimate downwelling SW from sum or global pyranometer (W/m^2)\n",
    "CSWdn\t\testimated clear-sky downwelling SW (W/m^2)\n",
    "LWdn\t\tdownwelling LW from pyrgeometer (W/m^2)\n",
    "CLWdn\t\testimated clear-sky downwelling LW (W/m^2)\n",
    "SWup\t\tupwelling SW from pyranometer (W/m^2)\n",
    "CSWup\t\testimated clear-sky upwelling SW (W/m^2)\n",
    "LWup\t\tupwelling LW from pyrgeometer (W/m^2)\n",
    "CLWup\t\testimated clear-sky upwelling LW (W/m^2)\n",
    "DifSW\t\tmeasured downwelling diffuse SW (W/m^2)\n",
    "CDifSW\t\testimated clear-sky downwelling diffuse SW (W/m^2)\n",
    "DirSW\t\tmeasured downwelling direct SW (W/m^2)\n",
    "CDirSW\t\testimated clear-sky downwelling direct SW (W/m^2)\n",
    "ClrF\t\tClear sky flag, 1 if SW detected clear sky, 2 if LW detected, 9 if CLW>LW, 3 if only std and Ta-Te diff OK and ONLY LWup accepted as clear LWup [NOT LWdn!!!], else 0 if cloudy\n",
    "TauF\t\tTau flag, 1 if liq g used, 2 if ice g used, 0 if not calculated\n",
    "TlmF\t\tT limit flag, 1 if SW Scv used, 2 if LW Scv used, 3 if avg Ec used, 4 if lim=0.965*Ta used, 5 if just config limit temp used, 0 if not calculated\n",
    "LWScv\t\testimated effective LW fractional sky cover\n",
    "SWScv\t\testimated fractional sky cover from SW\n",
    "CldTau \t\testimated effective visible cloud optical depth  (only for SWScv>0.95)  \n",
    "CldTrn \t\testimated effective SW cloud transmissivity (SWdn/CSWdn ratio)\n",
    "TeLim\t\tIce cloud temp limit (K)\n",
    "LWTe\t\tSky brightness temp from LWdn (K)   \n",
    "CldTmp \t\testimated effective cloud radiating temperature  \n",
    "CldHgt \t\testimated effective cloud radiating height    \n",
    "Tair\t\tair temperature (K)  \n",
    "VPrs \t\tvapor pressure  (mb)      \n",
    "RH\t\tRelative Humidity (%)\n",
    "RHfac  \t\tRH adjustment to Ec        \n",
    "Ec       \t\\teffective clear-sky LW emissivity\n",
    "Wspd\t\tWind speed (same as input)\n",
    "LWlw\t\t(if included) Contribution to clear-sky LWup from LWdn term (W/m^2)\n",
    "SWlw\t\t(if included) Contribution to clear-sky LWup from SWnet term (W/m^2)\n",
    "RHlw\t\t(if included) Contribution to clear-sky LWup from RH term (W/m^2)\n",
    "Wslw\t\t(if included) Contribution to clear-sky LWup from Wspd term (W/m^2)'''"
   ]
  },
  {
   "cell_type": "code",
   "execution_count": 25,
   "id": "931f4165-1eea-4daa-bc81-37f2386afd5d",
   "metadata": {
    "execution": {
     "iopub.execute_input": "2024-01-24T00:17:25.372932Z",
     "iopub.status.busy": "2024-01-24T00:17:25.372236Z",
     "iopub.status.idle": "2024-01-24T00:17:25.378886Z",
     "shell.execute_reply": "2024-01-24T00:17:25.377305Z",
     "shell.execute_reply.started": "2024-01-24T00:17:25.372881Z"
    }
   },
   "outputs": [],
   "source": [
    "varinfo = varinfo.split('\\n')"
   ]
  },
  {
   "cell_type": "code",
   "execution_count": 30,
   "id": "a8e9f792-4098-446d-85c7-850da246bd32",
   "metadata": {
    "execution": {
     "iopub.execute_input": "2024-01-24T18:36:40.619576Z",
     "iopub.status.busy": "2024-01-24T18:36:40.618903Z",
     "iopub.status.idle": "2024-01-24T18:36:40.626039Z",
     "shell.execute_reply": "2024-01-24T18:36:40.624928Z",
     "shell.execute_reply.started": "2024-01-24T18:36:40.619523Z"
    }
   },
   "outputs": [],
   "source": [
    "varinfo = [{'col': vi.split('\\t\\t')[0].strip(), 'info': vi.split('\\t\\t')[1].strip()} for vi in varinfo]"
   ]
  },
  {
   "cell_type": "code",
   "execution_count": 39,
   "id": "0a58a1bb-4f87-4d91-8c9d-7447aff43630",
   "metadata": {
    "execution": {
     "iopub.execute_input": "2024-01-24T18:41:20.785006Z",
     "iopub.status.busy": "2024-01-24T18:41:20.784343Z",
     "iopub.status.idle": "2024-01-24T18:41:20.793769Z",
     "shell.execute_reply": "2024-01-24T18:41:20.791889Z",
     "shell.execute_reply.started": "2024-01-24T18:41:20.784959Z"
    },
    "scrolled": true
   },
   "outputs": [
    {
     "name": "stdout",
     "output_type": "stream",
     "text": [
      "Zdate\t\n",
      "Ztim\t\n",
      "Ldate\t\n",
      "Ltim\t\n",
      "CosZ\t\n",
      "AU\t\n",
      "SWdn\t\n",
      "CSWdn\t\n",
      "LWdn\t\n",
      "CLWdn\t\n",
      "SWup\t\n",
      "CSWup\t\n",
      "LWup\t\n",
      "CLWup\t\n",
      "DifSW\t\n",
      "CDifSW\t\n",
      "DirSW\t\n",
      "CDirSW\t\n",
      "ClrF\t\n",
      "TauF\t\n",
      "TlmF\t\n",
      "LWScv\t\n",
      "SWScv\t\n",
      "CldTau\t\n",
      "CldTrn\t\n",
      "TeLim\t\n",
      "LWTe\t\n",
      "CldTmp\t\n",
      "CldHgt\t\n",
      "Tair\t\n",
      "VPrs\t\n",
      "RH\t\n",
      "RHfac\t\n",
      "Ec\t\n",
      "Wspd\t\n",
      "LWlw\t\n",
      "SWlw\t\n",
      "RHlw\t\n",
      "Wslw\t\n"
     ]
    }
   ],
   "source": [
    "for v in varinfo:\n",
    "    print(f'{v[\"col\"]}\\t')"
   ]
  },
  {
   "cell_type": "code",
   "execution_count": 180,
   "id": "98f12325-ea90-4201-b27e-807afe3e97d3",
   "metadata": {
    "execution": {
     "iopub.execute_input": "2024-01-24T20:34:30.774904Z",
     "iopub.status.busy": "2024-01-24T20:34:30.773917Z",
     "iopub.status.idle": "2024-01-24T20:34:30.780708Z",
     "shell.execute_reply": "2024-01-24T20:34:30.779842Z",
     "shell.execute_reply.started": "2024-01-24T20:34:30.774853Z"
    }
   },
   "outputs": [],
   "source": [
    "#new more verbose variable names \n",
    "var_trans = \"\"\"AU\tdistance_from_sun\n",
    "SWdn\tshortwave_down_best_estimate\n",
    "CSWdn\tshortwave_down_clear_sky_estimate\n",
    "LWdn\tlongwave_down\n",
    "CLWdn\tlongwave_down_clear_sky_estimate\n",
    "SWup\tshortwave_up\n",
    "CSWup\tshortwave_up_clear_sky_estimate\n",
    "LWup\tlongwave_up\n",
    "CLWup\tlongwave_up_clear_sky_estimate\n",
    "DifSW\tshortwave_diffuse_down_best_estimate\n",
    "CDifSW\tshortwave_diffuse_down_clear_sky_estimate\n",
    "DirSW\tshortwave_direct\n",
    "CDirSW\tshortwave_direct_clear_sky_estimate\n",
    "ClrF\tflag_clear_sky\n",
    "TauF\tflag_tau\n",
    "TlmF\tflag_tlim\n",
    "LWScv\tsky_cover_longwave\n",
    "SWScv\tsky_cover_shortwave\n",
    "CldTau\tcloud_OD\n",
    "CldTrn\tcloud_transmissivity\n",
    "TeLim\tcloud_ice_temp_limit\n",
    "LWTe\tsky_brightness_temp\n",
    "CldTmp\tcloud_radiating_temp\n",
    "CldHgt\tcloud_radiating_height\n",
    "Tair\ttemp_air\n",
    "VPrs\tvapor_pressure\n",
    "RH\t    rh\n",
    "RHfac\trh_frac\n",
    "Ec\tlongwave_emissivity_clear_sky\n",
    "Wspd\twind_speed\n",
    "LWlw\tcorrection_term_lwup_lwdn\n",
    "SWlw\tcorrection_term_lwup_swnet\n",
    "RHlw\tcorrection_term_lwup_rh\n",
    "Wslw\tcorrection_term_lwup_wspd\"\"\""
   ]
  },
  {
   "cell_type": "code",
   "execution_count": 181,
   "id": "87a34182-f69a-4ed4-9b19-a22d6ccbb0ec",
   "metadata": {
    "execution": {
     "iopub.execute_input": "2024-01-24T20:34:31.770369Z",
     "iopub.status.busy": "2024-01-24T20:34:31.769875Z",
     "iopub.status.idle": "2024-01-24T20:34:31.774377Z",
     "shell.execute_reply": "2024-01-24T20:34:31.773636Z",
     "shell.execute_reply.started": "2024-01-24T20:34:31.770330Z"
    }
   },
   "outputs": [],
   "source": [
    "var_trans = var_trans.split('\\n')"
   ]
  },
  {
   "cell_type": "code",
   "execution_count": 182,
   "id": "6e3aa710-7bc1-4701-a0d2-3e18a73e1c50",
   "metadata": {
    "execution": {
     "iopub.execute_input": "2024-01-24T20:34:32.207495Z",
     "iopub.status.busy": "2024-01-24T20:34:32.207035Z",
     "iopub.status.idle": "2024-01-24T20:34:32.212431Z",
     "shell.execute_reply": "2024-01-24T20:34:32.211386Z",
     "shell.execute_reply.started": "2024-01-24T20:34:32.207458Z"
    }
   },
   "outputs": [],
   "source": [
    "var_trans = [{'old': vi.split('\\t')[0].strip(), 'new': vi.split('\\t')[1].strip()} for vi in var_trans]"
   ]
  },
  {
   "cell_type": "code",
   "execution_count": 199,
   "id": "d1c70ed3-4d7a-4821-8629-372f67a3213b",
   "metadata": {
    "execution": {
     "iopub.execute_input": "2024-01-24T20:38:22.284090Z",
     "iopub.status.busy": "2024-01-24T20:38:22.283635Z",
     "iopub.status.idle": "2024-01-24T20:38:22.290532Z",
     "shell.execute_reply": "2024-01-24T20:38:22.289357Z",
     "shell.execute_reply.started": "2024-01-24T20:38:22.284054Z"
    }
   },
   "outputs": [],
   "source": [
    "varinfofull = [{'old': v['old'], 'new': v['new'], 'long_name': [vi for vi in varinfo if vi['col'] == v['old']][0]['info']} for v in var_trans]"
   ]
  },
  {
   "cell_type": "code",
   "execution_count": 201,
   "id": "c6815dc4-50dd-40af-956d-7da33859ba7d",
   "metadata": {
    "execution": {
     "iopub.execute_input": "2024-01-24T20:38:30.603220Z",
     "iopub.status.busy": "2024-01-24T20:38:30.602590Z",
     "iopub.status.idle": "2024-01-24T20:38:30.614134Z",
     "shell.execute_reply": "2024-01-24T20:38:30.612973Z",
     "shell.execute_reply.started": "2024-01-24T20:38:30.603167Z"
    }
   },
   "outputs": [],
   "source": [
    "# There were a bunch of variables missing in the description https://gml.noaa.gov/aftp/data/radiation/surfrad/RadFlux/RadFlux_ReadMe.txt\n",
    "# In addition i changed the cosine of the zenith angle to the zenith angle, sorry, but I did not see the point of having the cosine?!?\n",
    "var_addition = [{'old': 'aprs' , 'new': 'aprs' , 'long_name': 'N/A', },\n",
    " {'old': 'uvbdn', 'new': 'uvbdn', 'long_name': 'N/A', },\n",
    " {'old': 'pardn', 'new': 'pardn', 'long_name': 'N/A', },\n",
    " {'old': 'wdir' , 'new': 'wdir' , 'long_name': 'N/A', },\n",
    " {'old': 'gcorr', 'new': 'gcorr', 'long_name': 'N/A', },\n",
    " {'old': 'lwdtc', 'new': 'lwdtc', 'long_name': 'N/A', },\n",
    " {'old': 'lwdtd', 'new': 'lwdtd', 'long_name': 'N/A', },\n",
    " {'old': 'lwutc', 'new': 'lwutc', 'long_name': 'N/A', },\n",
    " {'old': 'lwutd', 'new': 'lwutd', 'long_name': 'N/A', },\n",
    " {'old': 'CosZ', 'new': 'solar_zenith_angle', 'long_name': 'Angle between Sun and the vertical', 'unit': 'degree'}, #yes agnle, somewhere below the cosine is removed\n",
    " {'old': 'time_local', 'new': 'time_local', 'long_name': 'Local standard time'},\n",
    "]\n",
    "varinfofull += var_addition"
   ]
  },
  {
   "cell_type": "code",
   "execution_count": 203,
   "id": "bf5fac72-23bb-4db7-b9e9-9d08db31263c",
   "metadata": {
    "execution": {
     "iopub.execute_input": "2024-01-24T20:38:40.063168Z",
     "iopub.status.busy": "2024-01-24T20:38:40.062475Z",
     "iopub.status.idle": "2024-01-24T20:38:40.067769Z",
     "shell.execute_reply": "2024-01-24T20:38:40.066431Z",
     "shell.execute_reply.started": "2024-01-24T20:38:40.063104Z"
    },
    "scrolled": true
   },
   "outputs": [],
   "source": [
    "#ds_ncei"
   ]
  },
  {
   "cell_type": "code",
   "execution_count": 204,
   "id": "c7aaea4a-582a-46c1-ae10-d05212982b16",
   "metadata": {
    "execution": {
     "iopub.execute_input": "2024-01-24T20:38:40.960620Z",
     "iopub.status.busy": "2024-01-24T20:38:40.959682Z",
     "iopub.status.idle": "2024-01-24T20:38:40.973666Z",
     "shell.execute_reply": "2024-01-24T20:38:40.972571Z",
     "shell.execute_reply.started": "2024-01-24T20:38:40.960568Z"
    }
   },
   "outputs": [
    {
     "data": {
      "text/plain": [
       "[{'old': 'AU',\n",
       "  'new': 'distance_from_sun',\n",
       "  'long_name': 'earth-sun distance in AUs'},\n",
       " {'old': 'SWdn',\n",
       "  'new': 'shortwave_down_best_estimate',\n",
       "  'long_name': 'best estimate downwelling SW from sum or global pyranometer (W/m^2)'},\n",
       " {'old': 'CSWdn',\n",
       "  'new': 'shortwave_down_clear_sky_estimate',\n",
       "  'long_name': 'estimated clear-sky downwelling SW (W/m^2)'},\n",
       " {'old': 'LWdn',\n",
       "  'new': 'longwave_down',\n",
       "  'long_name': 'downwelling LW from pyrgeometer (W/m^2)'},\n",
       " {'old': 'CLWdn',\n",
       "  'new': 'longwave_down_clear_sky_estimate',\n",
       "  'long_name': 'estimated clear-sky downwelling LW (W/m^2)'},\n",
       " {'old': 'SWup',\n",
       "  'new': 'shortwave_up',\n",
       "  'long_name': 'upwelling SW from pyranometer (W/m^2)'},\n",
       " {'old': 'CSWup',\n",
       "  'new': 'shortwave_up_clear_sky_estimate',\n",
       "  'long_name': 'estimated clear-sky upwelling SW (W/m^2)'},\n",
       " {'old': 'LWup',\n",
       "  'new': 'longwave_up',\n",
       "  'long_name': 'upwelling LW from pyrgeometer (W/m^2)'},\n",
       " {'old': 'CLWup',\n",
       "  'new': 'longwave_up_clear_sky_estimate',\n",
       "  'long_name': 'estimated clear-sky upwelling LW (W/m^2)'},\n",
       " {'old': 'DifSW',\n",
       "  'new': 'shortwave_diffuse_down_best_estimate',\n",
       "  'long_name': 'measured downwelling diffuse SW (W/m^2)'},\n",
       " {'old': 'CDifSW',\n",
       "  'new': 'shortwave_diffuse_down_clear_sky_estimate',\n",
       "  'long_name': 'estimated clear-sky downwelling diffuse SW (W/m^2)'},\n",
       " {'old': 'DirSW',\n",
       "  'new': 'shortwave_direct',\n",
       "  'long_name': 'measured downwelling direct SW (W/m^2)'},\n",
       " {'old': 'CDirSW',\n",
       "  'new': 'shortwave_direct_clear_sky_estimate',\n",
       "  'long_name': 'estimated clear-sky downwelling direct SW (W/m^2)'},\n",
       " {'old': 'ClrF',\n",
       "  'new': 'flag_clear_sky',\n",
       "  'long_name': 'Clear sky flag, 1 if SW detected clear sky, 2 if LW detected, 9 if CLW>LW, 3 if only std and Ta-Te diff OK and ONLY LWup accepted as clear LWup [NOT LWdn!!!], else 0 if cloudy'},\n",
       " {'old': 'TauF',\n",
       "  'new': 'flag_tau',\n",
       "  'long_name': 'Tau flag, 1 if liq g used, 2 if ice g used, 0 if not calculated'},\n",
       " {'old': 'TlmF',\n",
       "  'new': 'flag_tlim',\n",
       "  'long_name': 'T limit flag, 1 if SW Scv used, 2 if LW Scv used, 3 if avg Ec used, 4 if lim=0.965*Ta used, 5 if just config limit temp used, 0 if not calculated'},\n",
       " {'old': 'LWScv',\n",
       "  'new': 'sky_cover_longwave',\n",
       "  'long_name': 'estimated effective LW fractional sky cover'},\n",
       " {'old': 'SWScv',\n",
       "  'new': 'sky_cover_shortwave',\n",
       "  'long_name': 'estimated fractional sky cover from SW'},\n",
       " {'old': 'CldTau',\n",
       "  'new': 'cloud_OD',\n",
       "  'long_name': 'estimated effective visible cloud optical depth  (only for SWScv>0.95)'},\n",
       " {'old': 'CldTrn',\n",
       "  'new': 'cloud_transmissivity',\n",
       "  'long_name': 'estimated effective SW cloud transmissivity (SWdn/CSWdn ratio)'},\n",
       " {'old': 'TeLim',\n",
       "  'new': 'cloud_ice_temp_limit',\n",
       "  'long_name': 'Ice cloud temp limit (K)'},\n",
       " {'old': 'LWTe',\n",
       "  'new': 'sky_brightness_temp',\n",
       "  'long_name': 'Sky brightness temp from LWdn (K)'},\n",
       " {'old': 'CldTmp',\n",
       "  'new': 'cloud_radiating_temp',\n",
       "  'long_name': 'estimated effective cloud radiating temperature'},\n",
       " {'old': 'CldHgt',\n",
       "  'new': 'cloud_radiating_height',\n",
       "  'long_name': 'estimated effective cloud radiating height'},\n",
       " {'old': 'Tair', 'new': 'temp_air', 'long_name': 'air temperature (K)'},\n",
       " {'old': 'VPrs', 'new': 'vapor_pressure', 'long_name': 'vapor pressure  (mb)'},\n",
       " {'old': 'RH', 'new': 'rh', 'long_name': 'Relative Humidity (%)'},\n",
       " {'old': 'RHfac', 'new': 'rh_frac', 'long_name': 'RH adjustment to Ec'},\n",
       " {'old': 'Ec',\n",
       "  'new': 'longwave_emissivity_clear_sky',\n",
       "  'long_name': 'effective clear-sky LW emissivity'},\n",
       " {'old': 'Wspd',\n",
       "  'new': 'wind_speed',\n",
       "  'long_name': 'Wind speed (same as input)'},\n",
       " {'old': 'LWlw',\n",
       "  'new': 'correction_term_lwup_lwdn',\n",
       "  'long_name': '(if included) Contribution to clear-sky LWup from LWdn term (W/m^2)'},\n",
       " {'old': 'SWlw',\n",
       "  'new': 'correction_term_lwup_swnet',\n",
       "  'long_name': '(if included) Contribution to clear-sky LWup from SWnet term (W/m^2)'},\n",
       " {'old': 'RHlw',\n",
       "  'new': 'correction_term_lwup_rh',\n",
       "  'long_name': '(if included) Contribution to clear-sky LWup from RH term (W/m^2)'},\n",
       " {'old': 'Wslw',\n",
       "  'new': 'correction_term_lwup_wspd',\n",
       "  'long_name': '(if included) Contribution to clear-sky LWup from Wspd term (W/m^2)'},\n",
       " {'old': 'aprs', 'new': 'aprs', 'long_name': 'N/A'},\n",
       " {'old': 'uvbdn', 'new': 'uvbdn', 'long_name': 'N/A'},\n",
       " {'old': 'pardn', 'new': 'pardn', 'long_name': 'N/A'},\n",
       " {'old': 'wdir', 'new': 'wdir', 'long_name': 'N/A'},\n",
       " {'old': 'gcorr', 'new': 'gcorr', 'long_name': 'N/A'},\n",
       " {'old': 'lwdtc', 'new': 'lwdtc', 'long_name': 'N/A'},\n",
       " {'old': 'lwdtd', 'new': 'lwdtd', 'long_name': 'N/A'},\n",
       " {'old': 'lwutc', 'new': 'lwutc', 'long_name': 'N/A'},\n",
       " {'old': 'lwutd', 'new': 'lwutd', 'long_name': 'N/A'},\n",
       " {'old': 'CosZ',\n",
       "  'new': 'solar_zenith_angle',\n",
       "  'long_name': 'Angle between Sun and the vertical',\n",
       "  'unit': 'degree'},\n",
       " {'old': 'time_local',\n",
       "  'new': 'time_local',\n",
       "  'long_name': 'Local standard time'}]"
      ]
     },
     "execution_count": 204,
     "metadata": {},
     "output_type": "execute_result"
    }
   ],
   "source": [
    "# each key that is not 'old' or 'new' will be added as an attribute to the variable\n",
    "varinfofull"
   ]
  },
  {
   "cell_type": "code",
   "execution_count": 336,
   "id": "a2e558e6-a5bb-4be3-87b7-c2bcf02b4955",
   "metadata": {
    "execution": {
     "iopub.execute_input": "2024-01-24T22:53:48.480043Z",
     "iopub.status.busy": "2024-01-24T22:53:48.479228Z",
     "iopub.status.idle": "2024-01-24T22:53:48.486617Z",
     "shell.execute_reply": "2024-01-24T22:53:48.485033Z",
     "shell.execute_reply.started": "2024-01-24T22:53:48.479987Z"
    }
   },
   "outputs": [],
   "source": [
    "import json"
   ]
  },
  {
   "cell_type": "code",
   "execution_count": 338,
   "id": "0ccec766-402d-4197-851f-5ca022fc73b4",
   "metadata": {
    "execution": {
     "iopub.execute_input": "2024-01-24T22:54:19.449730Z",
     "iopub.status.busy": "2024-01-24T22:54:19.449206Z",
     "iopub.status.idle": "2024-01-24T22:54:19.458694Z",
     "shell.execute_reply": "2024-01-24T22:54:19.456977Z",
     "shell.execute_reply.started": "2024-01-24T22:54:19.449680Z"
    }
   },
   "outputs": [
    {
     "name": "stdout",
     "output_type": "stream",
     "text": [
      "[\n",
      "    {\n",
      "        \"old\": \"AU\",\n",
      "        \"new\": \"distance_from_sun\",\n",
      "        \"long_name\": \"earth-sun distance in AUs\"\n",
      "    },\n",
      "    {\n",
      "        \"old\": \"SWdn\",\n",
      "        \"new\": \"shortwave_down_best_estimate\",\n",
      "        \"long_name\": \"best estimate downwelling SW from sum or global pyranometer (W/m^2)\"\n",
      "    },\n",
      "    {\n",
      "        \"old\": \"CSWdn\",\n",
      "        \"new\": \"shortwave_down_clear_sky_estimate\",\n",
      "        \"long_name\": \"estimated clear-sky downwelling SW (W/m^2)\"\n",
      "    },\n",
      "    {\n",
      "        \"old\": \"LWdn\",\n",
      "        \"new\": \"longwave_down\",\n",
      "        \"long_name\": \"downwelling LW from pyrgeometer (W/m^2)\"\n",
      "    },\n",
      "    {\n",
      "        \"old\": \"CLWdn\",\n",
      "        \"new\": \"longwave_down_clear_sky_estimate\",\n",
      "        \"long_name\": \"estimated clear-sky downwelling LW (W/m^2)\"\n",
      "    },\n",
      "    {\n",
      "        \"old\": \"SWup\",\n",
      "        \"new\": \"shortwave_up\",\n",
      "        \"long_name\": \"upwelling SW from pyranometer (W/m^2)\"\n",
      "    },\n",
      "    {\n",
      "        \"old\": \"CSWup\",\n",
      "        \"new\": \"shortwave_up_clear_sky_estimate\",\n",
      "        \"long_name\": \"estimated clear-sky upwelling SW (W/m^2)\"\n",
      "    },\n",
      "    {\n",
      "        \"old\": \"LWup\",\n",
      "        \"new\": \"longwave_up\",\n",
      "        \"long_name\": \"upwelling LW from pyrgeometer (W/m^2)\"\n",
      "    },\n",
      "    {\n",
      "        \"old\": \"CLWup\",\n",
      "        \"new\": \"longwave_up_clear_sky_estimate\",\n",
      "        \"long_name\": \"estimated clear-sky upwelling LW (W/m^2)\"\n",
      "    },\n",
      "    {\n",
      "        \"old\": \"DifSW\",\n",
      "        \"new\": \"shortwave_diffuse_down_best_estimate\",\n",
      "        \"long_name\": \"measured downwelling diffuse SW (W/m^2)\"\n",
      "    },\n",
      "    {\n",
      "        \"old\": \"CDifSW\",\n",
      "        \"new\": \"shortwave_diffuse_down_clear_sky_estimate\",\n",
      "        \"long_name\": \"estimated clear-sky downwelling diffuse SW (W/m^2)\"\n",
      "    },\n",
      "    {\n",
      "        \"old\": \"DirSW\",\n",
      "        \"new\": \"shortwave_direct\",\n",
      "        \"long_name\": \"measured downwelling direct SW (W/m^2)\"\n",
      "    },\n",
      "    {\n",
      "        \"old\": \"CDirSW\",\n",
      "        \"new\": \"shortwave_direct_clear_sky_estimate\",\n",
      "        \"long_name\": \"estimated clear-sky downwelling direct SW (W/m^2)\"\n",
      "    },\n",
      "    {\n",
      "        \"old\": \"ClrF\",\n",
      "        \"new\": \"flag_clear_sky\",\n",
      "        \"long_name\": \"Clear sky flag, 1 if SW detected clear sky, 2 if LW detected, 9 if CLW>LW, 3 if only std and Ta-Te diff OK and ONLY LWup accepted as clear LWup [NOT LWdn!!!], else 0 if cloudy\"\n",
      "    },\n",
      "    {\n",
      "        \"old\": \"TauF\",\n",
      "        \"new\": \"flag_tau\",\n",
      "        \"long_name\": \"Tau flag, 1 if liq g used, 2 if ice g used, 0 if not calculated\"\n",
      "    },\n",
      "    {\n",
      "        \"old\": \"TlmF\",\n",
      "        \"new\": \"flag_tlim\",\n",
      "        \"long_name\": \"T limit flag, 1 if SW Scv used, 2 if LW Scv used, 3 if avg Ec used, 4 if lim=0.965*Ta used, 5 if just config limit temp used, 0 if not calculated\"\n",
      "    },\n",
      "    {\n",
      "        \"old\": \"LWScv\",\n",
      "        \"new\": \"sky_cover_longwave\",\n",
      "        \"long_name\": \"estimated effective LW fractional sky cover\"\n",
      "    },\n",
      "    {\n",
      "        \"old\": \"SWScv\",\n",
      "        \"new\": \"sky_cover_shortwave\",\n",
      "        \"long_name\": \"estimated fractional sky cover from SW\"\n",
      "    },\n",
      "    {\n",
      "        \"old\": \"CldTau\",\n",
      "        \"new\": \"cloud_OD\",\n",
      "        \"long_name\": \"estimated effective visible cloud optical depth  (only for SWScv>0.95)\"\n",
      "    },\n",
      "    {\n",
      "        \"old\": \"CldTrn\",\n",
      "        \"new\": \"cloud_transmissivity\",\n",
      "        \"long_name\": \"estimated effective SW cloud transmissivity (SWdn/CSWdn ratio)\"\n",
      "    },\n",
      "    {\n",
      "        \"old\": \"TeLim\",\n",
      "        \"new\": \"cloud_ice_temp_limit\",\n",
      "        \"long_name\": \"Ice cloud temp limit (K)\"\n",
      "    },\n",
      "    {\n",
      "        \"old\": \"LWTe\",\n",
      "        \"new\": \"sky_brightness_temp\",\n",
      "        \"long_name\": \"Sky brightness temp from LWdn (K)\"\n",
      "    },\n",
      "    {\n",
      "        \"old\": \"CldTmp\",\n",
      "        \"new\": \"cloud_radiating_temp\",\n",
      "        \"long_name\": \"estimated effective cloud radiating temperature\"\n",
      "    },\n",
      "    {\n",
      "        \"old\": \"CldHgt\",\n",
      "        \"new\": \"cloud_radiating_height\",\n",
      "        \"long_name\": \"estimated effective cloud radiating height\"\n",
      "    },\n",
      "    {\n",
      "        \"old\": \"Tair\",\n",
      "        \"new\": \"temp_air\",\n",
      "        \"long_name\": \"air temperature (K)\"\n",
      "    },\n",
      "    {\n",
      "        \"old\": \"VPrs\",\n",
      "        \"new\": \"vapor_pressure\",\n",
      "        \"long_name\": \"vapor pressure  (mb)\"\n",
      "    },\n",
      "    {\n",
      "        \"old\": \"RH\",\n",
      "        \"new\": \"rh\",\n",
      "        \"long_name\": \"Relative Humidity (%)\"\n",
      "    },\n",
      "    {\n",
      "        \"old\": \"RHfac\",\n",
      "        \"new\": \"rh_frac\",\n",
      "        \"long_name\": \"RH adjustment to Ec\"\n",
      "    },\n",
      "    {\n",
      "        \"old\": \"Ec\",\n",
      "        \"new\": \"longwave_emissivity_clear_sky\",\n",
      "        \"long_name\": \"effective clear-sky LW emissivity\"\n",
      "    },\n",
      "    {\n",
      "        \"old\": \"Wspd\",\n",
      "        \"new\": \"wind_speed\",\n",
      "        \"long_name\": \"Wind speed (same as input)\"\n",
      "    },\n",
      "    {\n",
      "        \"old\": \"LWlw\",\n",
      "        \"new\": \"correction_term_lwup_lwdn\",\n",
      "        \"long_name\": \"(if included) Contribution to clear-sky LWup from LWdn term (W/m^2)\"\n",
      "    },\n",
      "    {\n",
      "        \"old\": \"SWlw\",\n",
      "        \"new\": \"correction_term_lwup_swnet\",\n",
      "        \"long_name\": \"(if included) Contribution to clear-sky LWup from SWnet term (W/m^2)\"\n",
      "    },\n",
      "    {\n",
      "        \"old\": \"RHlw\",\n",
      "        \"new\": \"correction_term_lwup_rh\",\n",
      "        \"long_name\": \"(if included) Contribution to clear-sky LWup from RH term (W/m^2)\"\n",
      "    },\n",
      "    {\n",
      "        \"old\": \"Wslw\",\n",
      "        \"new\": \"correction_term_lwup_wspd\",\n",
      "        \"long_name\": \"(if included) Contribution to clear-sky LWup from Wspd term (W/m^2)\"\n",
      "    },\n",
      "    {\n",
      "        \"old\": \"aprs\",\n",
      "        \"new\": \"aprs\",\n",
      "        \"long_name\": \"N/A\"\n",
      "    },\n",
      "    {\n",
      "        \"old\": \"uvbdn\",\n",
      "        \"new\": \"uvbdn\",\n",
      "        \"long_name\": \"N/A\"\n",
      "    },\n",
      "    {\n",
      "        \"old\": \"pardn\",\n",
      "        \"new\": \"pardn\",\n",
      "        \"long_name\": \"N/A\"\n",
      "    },\n",
      "    {\n",
      "        \"old\": \"wdir\",\n",
      "        \"new\": \"wdir\",\n",
      "        \"long_name\": \"N/A\"\n",
      "    },\n",
      "    {\n",
      "        \"old\": \"gcorr\",\n",
      "        \"new\": \"gcorr\",\n",
      "        \"long_name\": \"N/A\"\n",
      "    },\n",
      "    {\n",
      "        \"old\": \"lwdtc\",\n",
      "        \"new\": \"lwdtc\",\n",
      "        \"long_name\": \"N/A\"\n",
      "    },\n",
      "    {\n",
      "        \"old\": \"lwdtd\",\n",
      "        \"new\": \"lwdtd\",\n",
      "        \"long_name\": \"N/A\"\n",
      "    },\n",
      "    {\n",
      "        \"old\": \"lwutc\",\n",
      "        \"new\": \"lwutc\",\n",
      "        \"long_name\": \"N/A\"\n",
      "    },\n",
      "    {\n",
      "        \"old\": \"lwutd\",\n",
      "        \"new\": \"lwutd\",\n",
      "        \"long_name\": \"N/A\"\n",
      "    },\n",
      "    {\n",
      "        \"old\": \"CosZ\",\n",
      "        \"new\": \"solar_zenith_angle\",\n",
      "        \"long_name\": \"Angle between Sun and the vertical\",\n",
      "        \"unit\": \"degree\"\n",
      "    },\n",
      "    {\n",
      "        \"old\": \"time_local\",\n",
      "        \"new\": \"time_local\",\n",
      "        \"long_name\": \"Local standard time\"\n",
      "    }\n",
      "]\n"
     ]
    }
   ],
   "source": [
    "# each key that is not 'old' or 'new' will be added as an attribute to the variable\n",
    "print(json.dumps(varinfofull, indent = 4))"
   ]
  },
  {
   "cell_type": "markdown",
   "id": "7708eee7-b7eb-46cb-977d-35ff56652de4",
   "metadata": {},
   "source": [
    "## read the ascii"
   ]
  },
  {
   "cell_type": "code",
   "execution_count": 205,
   "id": "d934cfdc-7774-4869-b375-00b115bb48ca",
   "metadata": {
    "execution": {
     "iopub.execute_input": "2024-01-24T20:38:46.826017Z",
     "iopub.status.busy": "2024-01-24T20:38:46.825425Z",
     "iopub.status.idle": "2024-01-24T20:38:46.834990Z",
     "shell.execute_reply": "2024-01-24T20:38:46.834202Z",
     "shell.execute_reply.started": "2024-01-24T20:38:46.825970Z"
    }
   },
   "outputs": [],
   "source": [
    "p2fld = pl.Path('/nfs/iftp/aftp/g-rad/surfrad/RadFlux/dra/2022/')\n",
    "p2f = list(p2fld.glob('202205*.lw1'))[-1]"
   ]
  },
  {
   "cell_type": "code",
   "execution_count": 218,
   "id": "5c575c77-8623-49d3-bfd8-bfd5ac6756e2",
   "metadata": {
    "execution": {
     "iopub.execute_input": "2024-01-24T20:45:09.130707Z",
     "iopub.status.busy": "2024-01-24T20:45:09.130219Z",
     "iopub.status.idle": "2024-01-24T20:45:09.141445Z",
     "shell.execute_reply": "2024-01-24T20:45:09.140595Z",
     "shell.execute_reply.started": "2024-01-24T20:45:09.130671Z"
    }
   },
   "outputs": [],
   "source": [
    "def process_single_file(path2file):\n",
    "    p2f = path2file\n",
    "    \n",
    "    df = pd.read_csv(p2f, delim_whitespace = True)\n",
    "    \n",
    "    df.index = df.apply(lambda row: pd.to_datetime(f'{row.zdate:0.0f}-{row.ztim:04.0f}'), axis = 1)\n",
    "    df.index.name = 'time'\n",
    "    \n",
    "    df['time_local'] =  df.apply(lambda row: pd.to_datetime(f'{row.ldate:0.0f}-{row.ltim:04.0f}'), axis = 1)\n",
    "    \n",
    "    df.drop(['zdate', 'ztim', 'ldate', 'ltim'], axis = 1, inplace=True)\n",
    "    \n",
    "    # instead of giving the cosine of the zenith angle I rather give the zenith angle\n",
    "    df.cosz = np.rad2deg(np.arccos(df.cosz))\n",
    "    \n",
    "    # lets set invalid data to nan\n",
    "    df[df == -9999] = np.nan\n",
    "    \n",
    "    ds = xr.Dataset()\n",
    "    cols = list(df.columns)\n",
    "    optional = ['lwlw', 'swlw', 'rhlw', 'wslw']\n",
    "    verbose = True\n",
    "    for var in varinfofull:\n",
    "        # break\n",
    "        try:\n",
    "            ds[var['new']] = df[var['old'].lower()]\n",
    "        except KeyError as e:\n",
    "            bla = e\n",
    "            if e.args[0] in optional:\n",
    "                if verbose:\n",
    "                    print(f'Optional variable {e.args[0]} not found')\n",
    "                # cols.pop(cols.index(var['old'].lower()))\n",
    "                continue\n",
    "            else:\n",
    "                raise\n",
    "        for a in var:\n",
    "            if a in ['new', 'old']:\n",
    "                continue\n",
    "            ds[var['new']].attrs[a] = var[a]\n",
    "        cols.pop(cols.index(var['old'].lower()))\n",
    "\n",
    "    assert(len(cols) == 0) , f'Not all columns where assigned. Collumns left over: {cols}.' \n",
    "\n",
    "    return ds"
   ]
  },
  {
   "cell_type": "code",
   "execution_count": 213,
   "id": "cd25b325-c471-400b-8ae0-8d5bfe188e05",
   "metadata": {
    "execution": {
     "iopub.execute_input": "2024-01-24T20:42:23.057820Z",
     "iopub.status.busy": "2024-01-24T20:42:23.057401Z",
     "iopub.status.idle": "2024-01-24T20:42:23.065983Z",
     "shell.execute_reply": "2024-01-24T20:42:23.065046Z",
     "shell.execute_reply.started": "2024-01-24T20:42:23.057787Z"
    }
   },
   "outputs": [],
   "source": []
  },
  {
   "cell_type": "markdown",
   "id": "703d75c1-80d1-4c31-ba87-a80f6ba9c2bf",
   "metadata": {
    "execution": {
     "iopub.execute_input": "2024-01-24T20:42:27.385422Z",
     "iopub.status.busy": "2024-01-24T20:42:27.384952Z",
     "iopub.status.idle": "2024-01-24T20:42:27.429611Z",
     "shell.execute_reply": "2024-01-24T20:42:27.428726Z",
     "shell.execute_reply.started": "2024-01-24T20:42:27.385380Z"
    }
   },
   "source": [
    "## Workplan"
   ]
  },
  {
   "cell_type": "code",
   "execution_count": 321,
   "id": "f1cefa5a-c1a5-4eda-84ae-a90c4ede0a06",
   "metadata": {
    "execution": {
     "iopub.execute_input": "2024-01-24T22:35:31.177179Z",
     "iopub.status.busy": "2024-01-24T22:35:31.176564Z",
     "iopub.status.idle": "2024-01-24T22:35:31.183320Z",
     "shell.execute_reply": "2024-01-24T22:35:31.182055Z",
     "shell.execute_reply.started": "2024-01-24T22:35:31.177132Z"
    }
   },
   "outputs": [],
   "source": [
    "p2fld = pl.Path('/nfs/iftp/aftp/g-rad/surfrad/RadFlux/')\n",
    "version = '1.0'\n",
    "p2fld_out = pl.Path(f'/nfs/grad/surfrad/products_level4/radflux/v{version}/')\n",
    "sites = ['tbl',]"
   ]
  },
  {
   "cell_type": "code",
   "execution_count": null,
   "id": "6c4d09cc-a39e-4553-bb31-09f5a9f31964",
   "metadata": {
    "execution": {
     "iopub.execute_input": "2024-01-24T22:19:16.343293Z",
     "iopub.status.busy": "2024-01-24T22:19:16.342549Z",
     "iopub.status.idle": "2024-01-24T22:19:16.538645Z",
     "shell.execute_reply": "2024-01-24T22:19:16.537457Z",
     "shell.execute_reply.started": "2024-01-24T22:19:16.343217Z"
    }
   },
   "outputs": [],
   "source": [
    "wp = pd.DataFrame()\n",
    "for fld in p2fld.glob('*'):\n",
    "    if not fld.is_dir():\n",
    "        continue\n",
    "    elif fld.name not in sites:\n",
    "        continue\n",
    "    wpt = pd.DataFrame(fld.glob('**/*.lw1'), columns=['p2f_in'])\n",
    "    wpt['site'] = fld.name\n",
    "    wp = pd.concat([wp,wpt])\n",
    "\n",
    "# generate the time (or date) index\n",
    "wp.index = wp.apply(lambda row: pd.to_datetime(row.p2f_in.name[:8]), axis = 1)\n",
    "wp.index.name = 'date'\n",
    "\n",
    "# row = wp.iloc[0]\n",
    "\n",
    "# generate the output paths\n",
    "wp['p2f_out'] = wp.apply(lambda row: p2fld_out.joinpath(row.site).joinpath(str(row.name.year)).joinpath(f'{row.site}.radflux.v{version}.{row.p2f_in.name[:8]}.nc'), axis=1)\n",
    "\n",
    "# remove if output file exists\n",
    "wp = wp[~(wp.apply(lambda row: row.p2f_out.is_file(), axis =1 ))]"
   ]
  },
  {
   "cell_type": "code",
   "execution_count": 334,
   "id": "e47a592a-2a66-4e51-abba-295bbd6fd0e1",
   "metadata": {
    "execution": {
     "iopub.execute_input": "2024-01-24T22:39:23.645850Z",
     "iopub.status.busy": "2024-01-24T22:39:23.645076Z",
     "iopub.status.idle": "2024-01-24T22:39:23.661915Z",
     "shell.execute_reply": "2024-01-24T22:39:23.660953Z",
     "shell.execute_reply.started": "2024-01-24T22:39:23.645799Z"
    }
   },
   "outputs": [
    {
     "data": {
      "text/html": [
       "<div>\n",
       "<style scoped>\n",
       "    .dataframe tbody tr th:only-of-type {\n",
       "        vertical-align: middle;\n",
       "    }\n",
       "\n",
       "    .dataframe tbody tr th {\n",
       "        vertical-align: top;\n",
       "    }\n",
       "\n",
       "    .dataframe thead th {\n",
       "        text-align: right;\n",
       "    }\n",
       "</style>\n",
       "<table border=\"1\" class=\"dataframe\">\n",
       "  <thead>\n",
       "    <tr style=\"text-align: right;\">\n",
       "      <th></th>\n",
       "      <th>p2f_in</th>\n",
       "      <th>site</th>\n",
       "      <th>p2f_out</th>\n",
       "    </tr>\n",
       "    <tr>\n",
       "      <th>date</th>\n",
       "      <th></th>\n",
       "      <th></th>\n",
       "      <th></th>\n",
       "    </tr>\n",
       "  </thead>\n",
       "  <tbody>\n",
       "    <tr>\n",
       "      <th>2016-12-04</th>\n",
       "      <td>/nfs/iftp/aftp/g-rad/surfrad/RadFlux/tbl/2016/...</td>\n",
       "      <td>tbl</td>\n",
       "      <td>/nfs/grad/surfrad/products_level4/radflux/v1.0...</td>\n",
       "    </tr>\n",
       "    <tr>\n",
       "      <th>2016-03-30</th>\n",
       "      <td>/nfs/iftp/aftp/g-rad/surfrad/RadFlux/tbl/2016/...</td>\n",
       "      <td>tbl</td>\n",
       "      <td>/nfs/grad/surfrad/products_level4/radflux/v1.0...</td>\n",
       "    </tr>\n",
       "    <tr>\n",
       "      <th>2016-04-19</th>\n",
       "      <td>/nfs/iftp/aftp/g-rad/surfrad/RadFlux/tbl/2016/...</td>\n",
       "      <td>tbl</td>\n",
       "      <td>/nfs/grad/surfrad/products_level4/radflux/v1.0...</td>\n",
       "    </tr>\n",
       "    <tr>\n",
       "      <th>2016-04-10</th>\n",
       "      <td>/nfs/iftp/aftp/g-rad/surfrad/RadFlux/tbl/2016/...</td>\n",
       "      <td>tbl</td>\n",
       "      <td>/nfs/grad/surfrad/products_level4/radflux/v1.0...</td>\n",
       "    </tr>\n",
       "    <tr>\n",
       "      <th>2016-11-17</th>\n",
       "      <td>/nfs/iftp/aftp/g-rad/surfrad/RadFlux/tbl/2016/...</td>\n",
       "      <td>tbl</td>\n",
       "      <td>/nfs/grad/surfrad/products_level4/radflux/v1.0...</td>\n",
       "    </tr>\n",
       "    <tr>\n",
       "      <th>...</th>\n",
       "      <td>...</td>\n",
       "      <td>...</td>\n",
       "      <td>...</td>\n",
       "    </tr>\n",
       "    <tr>\n",
       "      <th>2012-01-25</th>\n",
       "      <td>/nfs/iftp/aftp/g-rad/surfrad/RadFlux/tbl/2012/...</td>\n",
       "      <td>tbl</td>\n",
       "      <td>/nfs/grad/surfrad/products_level4/radflux/v1.0...</td>\n",
       "    </tr>\n",
       "    <tr>\n",
       "      <th>2012-11-23</th>\n",
       "      <td>/nfs/iftp/aftp/g-rad/surfrad/RadFlux/tbl/2012/...</td>\n",
       "      <td>tbl</td>\n",
       "      <td>/nfs/grad/surfrad/products_level4/radflux/v1.0...</td>\n",
       "    </tr>\n",
       "    <tr>\n",
       "      <th>2012-04-02</th>\n",
       "      <td>/nfs/iftp/aftp/g-rad/surfrad/RadFlux/tbl/2012/...</td>\n",
       "      <td>tbl</td>\n",
       "      <td>/nfs/grad/surfrad/products_level4/radflux/v1.0...</td>\n",
       "    </tr>\n",
       "    <tr>\n",
       "      <th>2012-01-09</th>\n",
       "      <td>/nfs/iftp/aftp/g-rad/surfrad/RadFlux/tbl/2012/...</td>\n",
       "      <td>tbl</td>\n",
       "      <td>/nfs/grad/surfrad/products_level4/radflux/v1.0...</td>\n",
       "    </tr>\n",
       "    <tr>\n",
       "      <th>2012-02-13</th>\n",
       "      <td>/nfs/iftp/aftp/g-rad/surfrad/RadFlux/tbl/2012/...</td>\n",
       "      <td>tbl</td>\n",
       "      <td>/nfs/grad/surfrad/products_level4/radflux/v1.0...</td>\n",
       "    </tr>\n",
       "  </tbody>\n",
       "</table>\n",
       "<p>10385 rows × 3 columns</p>\n",
       "</div>"
      ],
      "text/plain": [
       "                                                       p2f_in site  \\\n",
       "date                                                                 \n",
       "2016-12-04  /nfs/iftp/aftp/g-rad/surfrad/RadFlux/tbl/2016/...  tbl   \n",
       "2016-03-30  /nfs/iftp/aftp/g-rad/surfrad/RadFlux/tbl/2016/...  tbl   \n",
       "2016-04-19  /nfs/iftp/aftp/g-rad/surfrad/RadFlux/tbl/2016/...  tbl   \n",
       "2016-04-10  /nfs/iftp/aftp/g-rad/surfrad/RadFlux/tbl/2016/...  tbl   \n",
       "2016-11-17  /nfs/iftp/aftp/g-rad/surfrad/RadFlux/tbl/2016/...  tbl   \n",
       "...                                                       ...  ...   \n",
       "2012-01-25  /nfs/iftp/aftp/g-rad/surfrad/RadFlux/tbl/2012/...  tbl   \n",
       "2012-11-23  /nfs/iftp/aftp/g-rad/surfrad/RadFlux/tbl/2012/...  tbl   \n",
       "2012-04-02  /nfs/iftp/aftp/g-rad/surfrad/RadFlux/tbl/2012/...  tbl   \n",
       "2012-01-09  /nfs/iftp/aftp/g-rad/surfrad/RadFlux/tbl/2012/...  tbl   \n",
       "2012-02-13  /nfs/iftp/aftp/g-rad/surfrad/RadFlux/tbl/2012/...  tbl   \n",
       "\n",
       "                                                      p2f_out  \n",
       "date                                                           \n",
       "2016-12-04  /nfs/grad/surfrad/products_level4/radflux/v1.0...  \n",
       "2016-03-30  /nfs/grad/surfrad/products_level4/radflux/v1.0...  \n",
       "2016-04-19  /nfs/grad/surfrad/products_level4/radflux/v1.0...  \n",
       "2016-04-10  /nfs/grad/surfrad/products_level4/radflux/v1.0...  \n",
       "2016-11-17  /nfs/grad/surfrad/products_level4/radflux/v1.0...  \n",
       "...                                                       ...  \n",
       "2012-01-25  /nfs/grad/surfrad/products_level4/radflux/v1.0...  \n",
       "2012-11-23  /nfs/grad/surfrad/products_level4/radflux/v1.0...  \n",
       "2012-04-02  /nfs/grad/surfrad/products_level4/radflux/v1.0...  \n",
       "2012-01-09  /nfs/grad/surfrad/products_level4/radflux/v1.0...  \n",
       "2012-02-13  /nfs/grad/surfrad/products_level4/radflux/v1.0...  \n",
       "\n",
       "[10385 rows x 3 columns]"
      ]
     },
     "execution_count": 334,
     "metadata": {},
     "output_type": "execute_result"
    }
   ],
   "source": [
    "wp"
   ]
  },
  {
   "cell_type": "code",
   "execution_count": null,
   "id": "7204a041-eefb-4064-a64f-74d4d795dfdd",
   "metadata": {},
   "outputs": [],
   "source": []
  }
 ],
 "metadata": {
  "kernelspec": {
   "display_name": "py11t2",
   "language": "python",
   "name": "py11t2"
  },
  "language_info": {
   "codemirror_mode": {
    "name": "ipython",
    "version": 3
   },
   "file_extension": ".py",
   "mimetype": "text/x-python",
   "name": "python",
   "nbconvert_exporter": "python",
   "pygments_lexer": "ipython3",
   "version": "3.11.9"
  }
 },
 "nbformat": 4,
 "nbformat_minor": 5
}
