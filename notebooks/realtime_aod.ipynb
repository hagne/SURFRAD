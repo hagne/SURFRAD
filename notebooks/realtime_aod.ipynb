{
 "cells": [
  {
   "cell_type": "code",
   "execution_count": null,
   "id": "3123530e-fd6e-4a20-b4b1-2dc6740f6fd6",
   "metadata": {},
   "outputs": [],
   "source": []
  },
  {
   "cell_type": "code",
   "execution_count": null,
   "id": "ab9272f2-316d-429b-8b1a-acdaed837ca7",
   "metadata": {},
   "outputs": [],
   "source": []
  },
  {
   "cell_type": "code",
   "execution_count": 1,
   "id": "65e9960e-353f-419e-a301-e24df5b774df",
   "metadata": {
    "execution": {
     "iopub.execute_input": "2024-10-29T22:55:50.007685Z",
     "iopub.status.busy": "2024-10-29T22:55:50.006898Z",
     "iopub.status.idle": "2024-10-29T22:55:51.236911Z",
     "shell.execute_reply": "2024-10-29T22:55:51.235839Z",
     "shell.execute_reply.started": "2024-10-29T22:55:50.007622Z"
    }
   },
   "outputs": [],
   "source": [
    "import surfradpy.realtime_aod as sufrtaod"
   ]
  },
  {
   "cell_type": "code",
   "execution_count": 2,
   "id": "c1dda1b8-8697-40aa-8a58-65bdeb17c9f7",
   "metadata": {
    "execution": {
     "iopub.execute_input": "2024-10-29T22:55:51.862121Z",
     "iopub.status.busy": "2024-10-29T22:55:51.861149Z",
     "iopub.status.idle": "2024-10-29T22:55:51.869860Z",
     "shell.execute_reply": "2024-10-29T22:55:51.867849Z",
     "shell.execute_reply.started": "2024-10-29T22:55:51.862068Z"
    }
   },
   "outputs": [],
   "source": [
    "rtaod = sufrtaod.mfrsr_AOD_lev0()"
   ]
  },
  {
   "cell_type": "code",
   "execution_count": 3,
   "id": "6410d1f9-594d-4726-b13b-790ba5fcb7fc",
   "metadata": {
    "execution": {
     "iopub.execute_input": "2024-10-29T22:55:58.214788Z",
     "iopub.status.busy": "2024-10-29T22:55:58.214110Z",
     "iopub.status.idle": "2024-10-29T22:56:04.921940Z",
     "shell.execute_reply": "2024-10-29T22:56:04.921489Z",
     "shell.execute_reply.started": "2024-10-29T22:55:58.214751Z"
    }
   },
   "outputs": [
    {
     "name": "stdout",
     "output_type": "stream",
     "text": [
      "There are 92 files where the site in the file does not match the site of the folder...they will be skipped!!\n"
     ]
    },
    {
     "data": {
      "text/html": [
       "<div>\n",
       "<style scoped>\n",
       "    .dataframe tbody tr th:only-of-type {\n",
       "        vertical-align: middle;\n",
       "    }\n",
       "\n",
       "    .dataframe tbody tr th {\n",
       "        vertical-align: top;\n",
       "    }\n",
       "\n",
       "    .dataframe thead th {\n",
       "        text-align: right;\n",
       "    }\n",
       "</style>\n",
       "<table border=\"1\" class=\"dataframe\">\n",
       "  <thead>\n",
       "    <tr style=\"text-align: right;\">\n",
       "      <th></th>\n",
       "      <th>p2f</th>\n",
       "      <th>site</th>\n",
       "      <th>p2f_out</th>\n",
       "    </tr>\n",
       "    <tr>\n",
       "      <th>date</th>\n",
       "      <th></th>\n",
       "      <th></th>\n",
       "      <th></th>\n",
       "    </tr>\n",
       "  </thead>\n",
       "  <tbody>\n",
       "    <tr>\n",
       "      <th>2022-09-11</th>\n",
       "      <td>/nfs/grad/Inst/MFR/SURFRAD/tbl/mfrsr/tu/2022/t...</td>\n",
       "      <td>tbl</td>\n",
       "      <td>/nfs/grad/surfrad/products_level2/aod3realtime...</td>\n",
       "    </tr>\n",
       "    <tr>\n",
       "      <th>2022-09-12</th>\n",
       "      <td>/nfs/grad/Inst/MFR/SURFRAD/tbl/mfrsr/tu/2022/t...</td>\n",
       "      <td>tbl</td>\n",
       "      <td>/nfs/grad/surfrad/products_level2/aod3realtime...</td>\n",
       "    </tr>\n",
       "    <tr>\n",
       "      <th>2022-09-13</th>\n",
       "      <td>/nfs/grad/Inst/MFR/SURFRAD/tbl/mfrsr/tu/2022/t...</td>\n",
       "      <td>tbl</td>\n",
       "      <td>/nfs/grad/surfrad/products_level2/aod3realtime...</td>\n",
       "    </tr>\n",
       "    <tr>\n",
       "      <th>2024-06-23</th>\n",
       "      <td>/nfs/grad/Inst/MFR/SURFRAD/tbl/mfrsr/tu/2024/t...</td>\n",
       "      <td>tbl</td>\n",
       "      <td>/nfs/grad/surfrad/products_level2/aod3realtime...</td>\n",
       "    </tr>\n",
       "    <tr>\n",
       "      <th>2024-06-24</th>\n",
       "      <td>/nfs/grad/Inst/MFR/SURFRAD/tbl/mfrsr/tu/2024/t...</td>\n",
       "      <td>tbl</td>\n",
       "      <td>/nfs/grad/surfrad/products_level2/aod3realtime...</td>\n",
       "    </tr>\n",
       "    <tr>\n",
       "      <th>...</th>\n",
       "      <td>...</td>\n",
       "      <td>...</td>\n",
       "      <td>...</td>\n",
       "    </tr>\n",
       "    <tr>\n",
       "      <th>2024-10-24</th>\n",
       "      <td>/nfs/grad/Inst/MFR/SURFRAD/tbl/mfrsr/tu/2024/t...</td>\n",
       "      <td>tbl</td>\n",
       "      <td>/nfs/grad/surfrad/products_level2/aod3realtime...</td>\n",
       "    </tr>\n",
       "    <tr>\n",
       "      <th>2024-10-25</th>\n",
       "      <td>/nfs/grad/Inst/MFR/SURFRAD/tbl/mfrsr/tu/2024/t...</td>\n",
       "      <td>tbl</td>\n",
       "      <td>/nfs/grad/surfrad/products_level2/aod3realtime...</td>\n",
       "    </tr>\n",
       "    <tr>\n",
       "      <th>2024-10-26</th>\n",
       "      <td>/nfs/grad/Inst/MFR/SURFRAD/tbl/mfrsr/tu/2024/t...</td>\n",
       "      <td>tbl</td>\n",
       "      <td>/nfs/grad/surfrad/products_level2/aod3realtime...</td>\n",
       "    </tr>\n",
       "    <tr>\n",
       "      <th>2024-10-27</th>\n",
       "      <td>/nfs/grad/Inst/MFR/SURFRAD/tbl/mfrsr/tu/2024/t...</td>\n",
       "      <td>tbl</td>\n",
       "      <td>/nfs/grad/surfrad/products_level2/aod3realtime...</td>\n",
       "    </tr>\n",
       "    <tr>\n",
       "      <th>2024-10-28</th>\n",
       "      <td>/nfs/grad/Inst/MFR/SURFRAD/tbl/mfrsr/tu/2024/t...</td>\n",
       "      <td>tbl</td>\n",
       "      <td>/nfs/grad/surfrad/products_level2/aod3realtime...</td>\n",
       "    </tr>\n",
       "  </tbody>\n",
       "</table>\n",
       "<p>131 rows × 3 columns</p>\n",
       "</div>"
      ],
      "text/plain": [
       "                                                          p2f site  \\\n",
       "date                                                                 \n",
       "2022-09-11  /nfs/grad/Inst/MFR/SURFRAD/tbl/mfrsr/tu/2022/t...  tbl   \n",
       "2022-09-12  /nfs/grad/Inst/MFR/SURFRAD/tbl/mfrsr/tu/2022/t...  tbl   \n",
       "2022-09-13  /nfs/grad/Inst/MFR/SURFRAD/tbl/mfrsr/tu/2022/t...  tbl   \n",
       "2024-06-23  /nfs/grad/Inst/MFR/SURFRAD/tbl/mfrsr/tu/2024/t...  tbl   \n",
       "2024-06-24  /nfs/grad/Inst/MFR/SURFRAD/tbl/mfrsr/tu/2024/t...  tbl   \n",
       "...                                                       ...  ...   \n",
       "2024-10-24  /nfs/grad/Inst/MFR/SURFRAD/tbl/mfrsr/tu/2024/t...  tbl   \n",
       "2024-10-25  /nfs/grad/Inst/MFR/SURFRAD/tbl/mfrsr/tu/2024/t...  tbl   \n",
       "2024-10-26  /nfs/grad/Inst/MFR/SURFRAD/tbl/mfrsr/tu/2024/t...  tbl   \n",
       "2024-10-27  /nfs/grad/Inst/MFR/SURFRAD/tbl/mfrsr/tu/2024/t...  tbl   \n",
       "2024-10-28  /nfs/grad/Inst/MFR/SURFRAD/tbl/mfrsr/tu/2024/t...  tbl   \n",
       "\n",
       "                                                      p2f_out  \n",
       "date                                                           \n",
       "2022-09-11  /nfs/grad/surfrad/products_level2/aod3realtime...  \n",
       "2022-09-12  /nfs/grad/surfrad/products_level2/aod3realtime...  \n",
       "2022-09-13  /nfs/grad/surfrad/products_level2/aod3realtime...  \n",
       "2024-06-23  /nfs/grad/surfrad/products_level2/aod3realtime...  \n",
       "2024-06-24  /nfs/grad/surfrad/products_level2/aod3realtime...  \n",
       "...                                                       ...  \n",
       "2024-10-24  /nfs/grad/surfrad/products_level2/aod3realtime...  \n",
       "2024-10-25  /nfs/grad/surfrad/products_level2/aod3realtime...  \n",
       "2024-10-26  /nfs/grad/surfrad/products_level2/aod3realtime...  \n",
       "2024-10-27  /nfs/grad/surfrad/products_level2/aod3realtime...  \n",
       "2024-10-28  /nfs/grad/surfrad/products_level2/aod3realtime...  \n",
       "\n",
       "[131 rows x 3 columns]"
      ]
     },
     "execution_count": 3,
     "metadata": {},
     "output_type": "execute_result"
    }
   ],
   "source": [
    "rtaod.workplan"
   ]
  },
  {
   "cell_type": "markdown",
   "id": "d0831137-139a-4d11-9c88-50bacfc4ec70",
   "metadata": {},
   "source": [
    "# process by hand, e.g. to find problems or do improvements"
   ]
  },
  {
   "cell_type": "markdown",
   "id": "fe539a13-8ac6-4f23-ad1e-64249d12678d",
   "metadata": {},
   "source": [
    "This is basically the guts of the \"make_product\" function"
   ]
  },
  {
   "cell_type": "code",
   "execution_count": 9,
   "id": "1fbbb1e0-5395-406e-91a0-5bdb1a16b58b",
   "metadata": {
    "execution": {
     "iopub.execute_input": "2024-10-29T23:05:14.137060Z",
     "iopub.status.busy": "2024-10-29T23:05:14.136538Z",
     "iopub.status.idle": "2024-10-29T23:05:14.142890Z",
     "shell.execute_reply": "2024-10-29T23:05:14.141932Z",
     "shell.execute_reply.started": "2024-10-29T23:05:14.137018Z"
    }
   },
   "outputs": [],
   "source": [
    "import atmPy.data_archives.NOAA_ESRL_GMD_GRAD.surfrad.surfrad as atmsrf\n"
   ]
  },
  {
   "cell_type": "code",
   "execution_count": 5,
   "id": "14b87d81-dbaf-4ed3-be63-f243f3da0e73",
   "metadata": {
    "execution": {
     "iopub.execute_input": "2024-10-29T23:00:08.405402Z",
     "iopub.status.busy": "2024-10-29T23:00:08.404853Z",
     "iopub.status.idle": "2024-10-29T23:00:08.411575Z",
     "shell.execute_reply": "2024-10-29T23:00:08.410477Z",
     "shell.execute_reply.started": "2024-10-29T23:00:08.405354Z"
    }
   },
   "outputs": [],
   "source": [
    "self = rtaod"
   ]
  },
  {
   "cell_type": "code",
   "execution_count": 4,
   "id": "7ee2cfd9-792c-4877-8697-343ea9c6ebed",
   "metadata": {
    "execution": {
     "iopub.execute_input": "2024-10-29T22:58:31.831947Z",
     "iopub.status.busy": "2024-10-29T22:58:31.831365Z",
     "iopub.status.idle": "2024-10-29T22:58:31.839802Z",
     "shell.execute_reply": "2024-10-29T22:58:31.838216Z",
     "shell.execute_reply.started": "2024-10-29T22:58:31.831895Z"
    }
   },
   "outputs": [],
   "source": [
    "row = rtaod.workplan.iloc[0]"
   ]
  },
  {
   "cell_type": "code",
   "execution_count": 6,
   "id": "d9284d50-d7bc-4107-8c79-3d0241ed0568",
   "metadata": {
    "execution": {
     "iopub.execute_input": "2024-10-29T23:02:07.494836Z",
     "iopub.status.busy": "2024-10-29T23:02:07.494272Z",
     "iopub.status.idle": "2024-10-29T23:02:07.505329Z",
     "shell.execute_reply": "2024-10-29T23:02:07.504406Z",
     "shell.execute_reply.started": "2024-10-29T23:02:07.494789Z"
    }
   },
   "outputs": [
    {
     "data": {
      "text/plain": [
       "p2f        /nfs/grad/Inst/MFR/SURFRAD/tbl/mfrsr/tu/2022/t...\n",
       "site                                                     tbl\n",
       "p2f_out    /nfs/grad/surfrad/products_level2/aod3realtime...\n",
       "Name: 2022-09-11 00:00:00, dtype: object"
      ]
     },
     "execution_count": 6,
     "metadata": {},
     "output_type": "execute_result"
    }
   ],
   "source": [
    "row"
   ]
  },
  {
   "cell_type": "code",
   "execution_count": 7,
   "id": "b8f717a8-84ab-49e5-b9c7-055683ba31bb",
   "metadata": {
    "execution": {
     "iopub.execute_input": "2024-10-29T23:02:25.334439Z",
     "iopub.status.busy": "2024-10-29T23:02:25.333890Z",
     "iopub.status.idle": "2024-10-29T23:02:25.342456Z",
     "shell.execute_reply": "2024-10-29T23:02:25.341594Z",
     "shell.execute_reply.started": "2024-10-29T23:02:25.334391Z"
    }
   },
   "outputs": [
    {
     "data": {
      "text/plain": [
       "PosixPath('/nfs/grad/Inst/MFR/SURFRAD/tbl/mfrsr/tu/2022/tbl_mfrsr_20220911_D824_3126_660.tu')"
      ]
     },
     "execution_count": 7,
     "metadata": {},
     "output_type": "execute_result"
    }
   ],
   "source": [
    "path2file = row.p2f\n",
    "path2file"
   ]
  },
  {
   "cell_type": "code",
   "execution_count": 11,
   "id": "70c9e87b-f38b-4fde-bb89-a3fce7dd3b8c",
   "metadata": {
    "execution": {
     "iopub.execute_input": "2024-10-29T23:05:59.128809Z",
     "iopub.status.busy": "2024-10-29T23:05:59.128118Z",
     "iopub.status.idle": "2024-10-29T23:05:59.135856Z",
     "shell.execute_reply": "2024-10-29T23:05:59.134200Z",
     "shell.execute_reply.started": "2024-10-29T23:05:59.128759Z"
    }
   },
   "outputs": [],
   "source": [
    "langley_version = 0.4"
   ]
  },
  {
   "cell_type": "code",
   "execution_count": 13,
   "id": "d1a16d8c-9f13-4fc1-a4c6-029eb2fa96ab",
   "metadata": {
    "execution": {
     "iopub.execute_input": "2024-10-29T23:07:29.447741Z",
     "iopub.status.busy": "2024-10-29T23:07:29.447139Z",
     "iopub.status.idle": "2024-10-29T23:07:29.454629Z",
     "shell.execute_reply": "2024-10-29T23:07:29.453369Z",
     "shell.execute_reply.started": "2024-10-29T23:07:29.447690Z"
    }
   },
   "outputs": [],
   "source": [
    "lands = self.lands"
   ]
  },
  {
   "cell_type": "code",
   "execution_count": 14,
   "id": "32460a43-36ed-4453-af52-6baddefa761c",
   "metadata": {
    "execution": {
     "iopub.execute_input": "2024-10-29T23:07:31.273301Z",
     "iopub.status.busy": "2024-10-29T23:07:31.272886Z",
     "iopub.status.idle": "2024-10-29T23:07:41.520875Z",
     "shell.execute_reply": "2024-10-29T23:07:41.520255Z",
     "shell.execute_reply.started": "2024-10-29T23:07:31.273289Z"
    }
   },
   "outputs": [
    {
     "name": "stdout",
     "output_type": "stream",
     "text": [
      "langleys.load.gampredict.done\n"
     ]
    },
    {
     "name": "stderr",
     "output_type": "stream",
     "text": [
      "/home/grad/htelg/prog_dev/atm-py/atmPy/radiation/solar.py:124: UserWarning: Discarding nonzero nanoseconds in conversion.\n",
      "  date = date.to_pydatetime()\n"
     ]
    }
   ],
   "source": [
    "# def make_product(self, path2file, product_version, verbose=False, langley_version='0.4', lands=None, aod_lim_max=2.8):\n",
    "# path2file = '/nfs/grad/Inst/MFR/SURFRAD/tbl/mfrsr/ccc/2021/tbl20210301_0660.ccc'\n",
    "p2f_ccc = pl.Path(path2file)\n",
    "sii = atmsrf.read_ccc(p2f_ccc)\n",
    "sii.direct_normal_irradiation.settings_calibration = 'atm_gam'\n",
    "sii.direct_normal_irradiation.path2absorption_correction_ceoff_1625 = '/home/grad/htelg/data/grad/surfrad/aod1625/1625nm_absorption_correction_coefficience.nc'\n",
    "sii.direct_normal_irradiation._apply_calibration_atm_gam(p2fld=f'/home/grad/htelg/data/grad/surfrad/mfrsr/langleys_concat.{langley_version}/tbl/',\n",
    "                                                         th=0.02,\n",
    "                                                         order_stderr=2,\n",
    "                                                         lam_overtime=2.5e4,\n",
    "                                                         ns_overtime=2,\n",
    "                                                         lam_season=1e4,\n",
    "                                                         ns_season=6,\n",
    "                                                         lands=lands)\n",
    "lands = sii.direct_normal_irradiation.lands"
   ]
  },
  {
   "cell_type": "code",
   "execution_count": 18,
   "id": "391522aa-afdb-42c0-b809-f3f950bbbe83",
   "metadata": {
    "execution": {
     "iopub.execute_input": "2024-10-29T23:13:10.710860Z",
     "iopub.status.busy": "2024-10-29T23:13:10.710596Z",
     "iopub.status.idle": "2024-10-29T23:13:10.748556Z",
     "shell.execute_reply": "2024-10-29T23:13:10.748233Z",
     "shell.execute_reply.started": "2024-10-29T23:13:10.710839Z"
    }
   },
   "outputs": [],
   "source": [
    "lands.v0prediction_gam.dataset.to_netcdf('/home/grad/htelg/data/grad/surfrad/mfrsr/langleys_gam_tbl.nc')"
   ]
  },
  {
   "cell_type": "code",
   "execution_count": null,
   "id": "497b0a2b-a9a6-428c-848b-b35cacc1d571",
   "metadata": {},
   "outputs": [],
   "source": []
  },
  {
   "cell_type": "code",
   "execution_count": null,
   "id": "6af99745-4028-4664-89da-b3431f7796f9",
   "metadata": {},
   "outputs": [],
   "source": []
  },
  {
   "cell_type": "code",
   "execution_count": null,
   "id": "a3f3e015-c5f3-4fc0-b963-a33dd7274321",
   "metadata": {},
   "outputs": [],
   "source": []
  },
  {
   "cell_type": "code",
   "execution_count": null,
   "id": "c66c639e-eaaf-49ba-a586-953f8459cabb",
   "metadata": {},
   "outputs": [],
   "source": [
    "ds = sii.direct_normal_irradiation.od_co2_ch4_h2o.transpose('datetime', 'channel')\n",
    "ds = ds.rename_vars({var: f'od_{var.split(\"_\")[0]}' for var in ds})\n",
    "ds['aod'] = sii.direct_normal_irradiation.aod.transpose('datetime', 'channel')\n",
    "ds['od_rayleigh'] = sii.direct_normal_irradiation.od_rayleigh.transpose('datetime', 'channel')\n",
    "ds['od_total'] = sii.direct_normal_irradiation.od_total.transpose('datetime', 'channel')\n",
    "\n",
    "\n",
    "#### QF exceeds detectionlimit aod max\n",
    "dshighlim = (sii.direct_normal_irradiation.raw_data.global_horizontal_irradiation -\n",
    "             sii.direct_normal_irradiation.raw_data.diffuse_horizontal_irradiation) < aod_lim_max\n",
    "ds['flag_exceeds_aod_max'] = dshighlim\n",
    "ds.flag_exceeds_aod_max.attrs[\n",
    "    'info'] = f'The difference between global and diffuse is smaller than {aod_lim_max}, which is ~4 standard deviations of the measurement noise.'\n",
    "\n",
    "# invalidate all date where certain flags are set\n",
    "ds = ds.where(~ds.flag_exceeds_aod_max, np.nan)\n",
    "\n",
    "#### angstrom exp\n",
    "if 1:\n",
    "    aod = atmcop.AOD_AOT(ds.aod)\n",
    "    angcombos = [(415, 670), (500, 870), (500, 1625), (870, 1625)]\n",
    "    anglist = []\n",
    "    # assert(False), 'aod is not defined anywhere!?!?' #something like: aodinst = atmcop.AOD_AOT(aod)\n",
    "    for angcomb in angcombos:\n",
    "        # col1 = 415\n",
    "        # col2 = 673\n",
    "        ang = aod.aod2angstrom_exponent(\n",
    "            column_1=angcomb[0], column_2=angcomb[1],)\n",
    "        coordval = f'{angcomb[0]}_{angcomb[1]}'\n",
    "        anglist.append(ang.expand_dims({'ang_channels': [coordval]}))\n",
    "    ang = xr.concat(anglist, dim='ang_channels')\n",
    "    ds['angstrom_exp'] = ang.transpose('datetime', 'ang_channels')\n",
    "\n",
    "#### legacy cloudmask\n",
    "ds['cloudmask_michalsky'] = aod.cloudmask.cloudmask_michalsky\n",
    "\n",
    "#### temporary\n",
    "ds['transmission'] = sii.direct_normal_irradiation.transmission\n",
    "ds['global_horizontal'] = sii.direct_normal_irradiation.raw_data.global_horizontal_irradiation\n",
    "ds['direct_normal'] = sii.direct_normal_irradiation.raw_data.direct_normal_irradiation\n",
    "ds['diffuse_horizontal'] = sii.direct_normal_irradiation.raw_data.diffuse_horizontal_irradiation\n",
    "\n",
    "sunpos = sii.direct_normal_irradiation.sun_position.copy()\n",
    "sunpos = sunpos.drop(['ampm'], axis=1)\n",
    "sunpos.columns.name = 'sun_params'\n",
    "ds['sun_position'] = sunpos\n",
    "\n",
    "# end temporary\n",
    "ds.attrs = {att: sii.direct_normal_irradiation.raw_data.attrs[att]\n",
    "            for att in sii.direct_normal_irradiation.raw_data.attrs if 'site' in att}\n",
    "ds.attrs['MFRSR_serial_no'] = sii.direct_normal_irradiation.raw_data.attrs['serial_no']\n",
    "ds.attrs['creation_timestamp'] = str(pd.Timestamp.now())\n",
    "ds.attrs['product_version'] = product_version\n",
    "# temporary variables for testing\n",
    "# is this the Langley claibration part, we might still need this\n",
    "if 0:\n",
    "    V0df = sii.direct_normal_irradiation.tp_V0df\n",
    "    V0df.index.name = 'channel'\n",
    "    V0da = V0df.iloc[:, 0].to_xarray()\n",
    "    V0da = V0da.expand_dims(\n",
    "        {'date': [pd.to_datetime(pd.to_datetime(ds.datetime.values[0]).date())]})\n",
    "#\n",
    "    ds['V0'] = V0da\n",
    "    ds['sun_earth_distance'] = sii.direct_normal_irradiation.tp_sedistcorr.iloc[:, 0]\n",
    "    # .iloc[:,0]\n",
    "    ds['sun_earth_V0_correction'] = sii.direct_normal_irradiation.tp_calib_interp_secorr\n",
    "# output\n",
    "out = {'product': ds}\n",
    "out['sii'] = sii\n",
    "out['aod'] = aod\n",
    "if 0:\n",
    "    out['VOdf'] = sii.direct_normal_irradiation.tp_V0df\n",
    "return out"
   ]
  }
 ],
 "metadata": {
  "kernelspec": {
   "display_name": "py11t2",
   "language": "python",
   "name": "py11t2"
  },
  "language_info": {
   "codemirror_mode": {
    "name": "ipython",
    "version": 3
   },
   "file_extension": ".py",
   "mimetype": "text/x-python",
   "name": "python",
   "nbconvert_exporter": "python",
   "pygments_lexer": "ipython3",
   "version": "3.11.9"
  }
 },
 "nbformat": 4,
 "nbformat_minor": 5
}
