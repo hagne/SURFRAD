{
 "cells": [
  {
   "cell_type": "markdown",
   "metadata": {},
   "source": [
    "# todo"
   ]
  },
  {
   "cell_type": "code",
   "execution_count": 1,
   "metadata": {},
   "outputs": [],
   "source": [
    "import netCDF4\n",
    "import string\n",
    "import platform\n",
    "import os"
   ]
  },
  {
   "cell_type": "code",
   "execution_count": null,
   "metadata": {},
   "outputs": [],
   "source": []
  },
  {
   "cell_type": "code",
   "execution_count": null,
   "metadata": {},
   "outputs": [],
   "source": []
  },
  {
   "cell_type": "markdown",
   "metadata": {},
   "source": [
    "* **Done** Time = 480  can we make this lowercase? 'time'; if we do that in the definition up top it should carry it through all the variable dimensions, right?\n",
    "* **not necessary, in fact my programm does not even allow it, it takes care of it it self** to the 'time' variable add an identifier for time zone :units=\"seconds since 1995-5-10 00:00:00 0:00\" - so adding the final 0:00 after a space indicates 0 offset from UTC\n",
    "* **Done** int time variable needs :epoch_time attribute - Ken says it's a number you need to calculate but trivial with Python utility and this will help users to calculate time easily without having to parse the other string/array\n",
    "* **Done** multiple variables in the :ancillary_variables attribute should be separated by spaces and not commas so the commas should be removed\n",
    "* **Done** variable 'diffuse_shortwave_irloss_flag' - \"shortwave\" is misspelled\n",
    "* **Done** for variables 'wind_speed' and 'wind_direction' can we change the comments to \"measured at top of tower\"\n",
    "* **Done ... i think** there are a couple of added variables in there that we're not sure what they're for  :type = \"byte\" and :Coordinates = \"Time\" - these pooped up in some of the variables and are not needed and potentially contradictory with the variable definition - can we take all of these out?\n",
    "* **Done** add a //global_attribute :history = \"this file was created on <time stamp> on the machine <name machine>\" - this will help with troubleshooting down the road if needed\n",
    "\n",
    "* **Yes** are you using netCDF 4 libraries?\n",
    "* **Done** do you have the 'classic mode' switch on which makes it back-compatible? Ken recommends this"
   ]
  },
  {
   "cell_type": "markdown",
   "metadata": {},
   "source": [
    "**disagreed, see section 2.4 ... http://cfconventions.org/Data/cf-conventions/cf-conventions-1.7/cf-conventions.html#dimensions** The \"coordinates\" attribute (attribute's name case matters) is intended to point to other coordinate variables that should be used to describe the data in space. There is an example of the use in section 5.3. Since you are just presenting a time series I suggest taking that attribute out.\n",
    "\n",
    "**Gone** I can't find any description of an attribute called \"type\" in CF. I suggest taking it out.\n",
    "\n",
    "**I prefere without it since my library is taking care of that it self and does not allow me to change it** CF section 4.4 has an example of using the \"0:00\" timezone offset if you want to understand that more. The Standard does say \"Note: if the time zone is omitted the default is UTC, and if both time and time zone are omitted the default is 00:00:00 UTC.\" So you can apparently leave it off if you prefer.\n",
    "\n",
    "Here is the description of \"calendar\" that makes me think what you have is correct: \"For time coordinates that do cross the discontinuity the proleptic_gregorian calendar should be used instead.\""
   ]
  },
  {
   "cell_type": "markdown",
   "metadata": {},
   "source": [
    "# imports "
   ]
  },
  {
   "cell_type": "code",
   "execution_count": 4,
   "metadata": {
    "ExecuteTime": {
     "end_time": "2018-08-31T19:01:49.959060Z",
     "start_time": "2018-08-31T19:01:49.955573Z"
    }
   },
   "outputs": [],
   "source": [
    "import hashlib\n",
    "import os"
   ]
  },
  {
   "cell_type": "markdown",
   "metadata": {},
   "source": [
    "# Using the cdl file"
   ]
  },
  {
   "cell_type": "code",
   "execution_count": 1,
   "metadata": {
    "ExecuteTime": {
     "end_time": "2018-09-11T20:51:48.614037Z",
     "start_time": "2018-09-11T20:51:48.560370Z"
    }
   },
   "outputs": [],
   "source": [
    "from SurfRadPy import NCEI as ncei"
   ]
  },
  {
   "cell_type": "code",
   "execution_count": 4,
   "metadata": {
    "ExecuteTime": {
     "end_time": "2018-09-11T20:52:47.106289Z",
     "start_time": "2018-09-11T20:52:46.673539Z"
    }
   },
   "outputs": [],
   "source": [
    "ncei.qcrad2netcdf('../data/bon_19950510.qdat', '../data/', '../data/SURFRAD_QCrad_metadata.cdl', overwrite=True)"
   ]
  },
  {
   "cell_type": "code",
   "execution_count": 81,
   "metadata": {
    "ExecuteTime": {
     "end_time": "2018-09-11T22:53:49.424074Z",
     "start_time": "2018-09-11T22:53:49.418285Z"
    }
   },
   "outputs": [
    {
     "data": {
      "text/plain": [
       "<module 'SurfRadPy.NCEI' from '/Users/htelg/prog/SURFRAD/SurfRadPy/NCEI.py'>"
      ]
     },
     "execution_count": 81,
     "metadata": {},
     "output_type": "execute_result"
    }
   ],
   "source": [
    "reload(ncei)"
   ]
  },
  {
   "cell_type": "code",
   "execution_count": 85,
   "metadata": {
    "ExecuteTime": {
     "end_time": "2018-09-11T22:55:22.638752Z",
     "start_time": "2018-09-11T22:55:11.216600Z"
    },
    "scrolled": false
   },
   "outputs": [],
   "source": [
    "df = ncei.tar_netcdf_files(\"/Volumes/HTelg_4TB_Backup/GRAD/SURFRAD/NCEI/1995/\", '/Volumes/HTelg_4TB_Backup/GRAD/SURFRAD/NCEI/', overwrite= True, test=False, verbose=True)"
   ]
  },
  {
   "cell_type": "code",
   "execution_count": null,
   "metadata": {},
   "outputs": [],
   "source": []
  },
  {
   "cell_type": "code",
   "execution_count": null,
   "metadata": {},
   "outputs": [],
   "source": []
  },
  {
   "cell_type": "code",
   "execution_count": null,
   "metadata": {},
   "outputs": [],
   "source": []
  },
  {
   "cell_type": "code",
   "execution_count": null,
   "metadata": {},
   "outputs": [],
   "source": []
  },
  {
   "cell_type": "markdown",
   "metadata": {},
   "source": [
    "## parse CDL file"
   ]
  },
  {
   "cell_type": "code",
   "execution_count": 376,
   "metadata": {
    "ExecuteTime": {
     "end_time": "2018-09-11T17:44:45.820691Z",
     "start_time": "2018-09-11T17:44:45.817502Z"
    }
   },
   "outputs": [],
   "source": [
    "cdlname = '../data/SURFRAD_QCrad_metadata.cdl'"
   ]
  },
  {
   "cell_type": "code",
   "execution_count": 377,
   "metadata": {
    "ExecuteTime": {
     "end_time": "2018-09-11T17:44:46.300316Z",
     "start_time": "2018-09-11T17:44:46.296256Z"
    }
   },
   "outputs": [],
   "source": [
    "with open(cdlname, 'r') as rein:\n",
    "    lines = rein.readlines()"
   ]
  },
  {
   "cell_type": "code",
   "execution_count": 540,
   "metadata": {
    "ExecuteTime": {
     "end_time": "2018-09-11T18:47:47.895409Z",
     "start_time": "2018-09-11T18:47:47.881042Z"
    }
   },
   "outputs": [
    {
     "name": "stdout",
     "output_type": "stream",
     "text": [
      "done\n"
     ]
    }
   ],
   "source": [
    "what_is_it = None\n",
    "varlist = []\n",
    "global_atts = {}\n",
    "for l in lines:\n",
    "    if 'variables:' in l:\n",
    "        what_is_it = 'variable'\n",
    "        continue\n",
    "    elif 'global Attributes:' in l:\n",
    "        what_is_it = 'global_attributes'\n",
    "        continue\n",
    "    elif l.strip() == '':\n",
    "        continue\n",
    "    elif l.strip() == '}':\n",
    "        print('done')\n",
    "        break \n",
    "\n",
    "    if what_is_it == 'variable':\n",
    "#         continue\n",
    "        # tests if header and if then which type the data will have\n",
    "        if l.strip().split()[0] in ('int','float','byte'):\n",
    "            if '(' in l:\n",
    "                name, index = l.strip().split()[1].split('(')\n",
    "                index = index.replace(');', '')\n",
    "            else:\n",
    "                name, index = l.strip().split()[1].strip(';'), None\n",
    "#             print('\"{}\", \"{}\"'.format(name, index))\n",
    "            var = {}\n",
    "            varlist.append(var)\n",
    "            var['name_nc'] = name\n",
    "            var['index'] = index\n",
    "            var['attributes'] = {}\n",
    "        else:\n",
    "            assert(name in l)\n",
    "            attname, value = l.strip().replace(name + ':', '').split('=')\n",
    "            attname = attname.strip()\n",
    "            value = value.strip()\n",
    "            value = value.split('//')[0].strip().strip(';').strip('\"').strip()\n",
    "            # this will convert string numbers to int ... unless when it is a unit\n",
    "            if attname != 'units':\n",
    "                try:\n",
    "\n",
    "                    value = eval(value)\n",
    "#                     print(attname, end = ': ')\n",
    "#                     print (value)\n",
    "                except:\n",
    "    #                 print(value)\n",
    "                    pass\n",
    "            var['attributes'][attname.strip()] = value\n",
    "    if what_is_it == 'global_attributes':\n",
    "        attname, value = l.strip().strip(':').strip(';').split('=', maxsplit=1)\n",
    "        global_atts[attname.strip()] = value.strip().strip('\"')\n",
    "#         break\n",
    "\n",
    "now = pd.datetime.utcnow()\n",
    "global_atts['history'] = 'This file was created {:04d}-{:02d}-{:02d} {:02d}:{:02d}:{:02d} on {} by {}.'.format(now.year, now.month, now.day, now.hour, now.minute, now.second, platform.node(), os.environ['LOGNAME'])\n",
    "\n",
    "# The _NCProperties parameter seams to be somewhat protected so I pop it out for now\n",
    "bla = global_atts.pop('_NCProperties')\n"
   ]
  },
  {
   "cell_type": "code",
   "execution_count": 483,
   "metadata": {
    "ExecuteTime": {
     "end_time": "2018-09-11T18:35:38.146145Z",
     "start_time": "2018-09-11T18:35:38.141213Z"
    }
   },
   "outputs": [
    {
     "data": {
      "text/plain": [
       "{'Conventions': 'CF-1.7',\n",
       " 'title': 'QCRad V3 Dataset from NOAA/ESRL/GMD/GRAD SURFRAD Data Archive',\n",
       " 'source': 'NOAA/ESRL/GMD/GRAD SURFRAD Data Archive',\n",
       " 'references': 'Online: https://www.esrl.noaa.gov/gmd/grad/surfrad/index.html',\n",
       " 'history': 'This file was created 2018-09-11 18:35:34 on danube.cmdl.noaa.gov by htelg.',\n",
       " 'institution': 'National Oceanic and Atmospheric Administration (NOAA) - David Skaggs Research Center - Boulder, CO',\n",
       " 'comment': 'Raw data taken each minute and saved in daily files by test site',\n",
       " 'command_line': 'surfrad_process –f option –c some other options…'}"
      ]
     },
     "execution_count": 483,
     "metadata": {},
     "output_type": "execute_result"
    }
   ],
   "source": [
    "global_atts"
   ]
  },
  {
   "cell_type": "markdown",
   "metadata": {},
   "source": [
    "## load data"
   ]
  },
  {
   "cell_type": "code",
   "execution_count": 484,
   "metadata": {
    "ExecuteTime": {
     "end_time": "2018-09-11T18:35:42.710209Z",
     "start_time": "2018-09-11T18:35:42.679079Z"
    }
   },
   "outputs": [],
   "source": [
    "fname = '../data/bon_19950510.qdat'\n",
    "data = pd.read_csv(fname,delim_whitespace=True)\n",
    "\n",
    "# creating timestamp\n",
    "datetimestr = data.Date.apply(lambda x: '{0:0>8}'.format(x)) + data.Time.apply(lambda x: '{0:0>4}'.format(x)) + 'UTC'#'+0000'\n",
    "\n",
    "data.index = pd.to_datetime(datetimestr, format = \"%Y%m%d%H%M%Z\") \n",
    "data.index.name = 'time'\n",
    "\n",
    "# removing obsolete columns\n",
    "data = data.drop(['Date', 'Time'], axis=1)"
   ]
  },
  {
   "cell_type": "code",
   "execution_count": 485,
   "metadata": {
    "ExecuteTime": {
     "end_time": "2018-09-11T18:35:43.194240Z",
     "start_time": "2018-09-11T18:35:43.178661Z"
    }
   },
   "outputs": [],
   "source": [
    "# our missing data is np.nan\n",
    "data[data == -9999.0] = np.nan\n",
    "data[data == -9999.9] = np.nan\n",
    "\n",
    "# pressure mbar to pa\n",
    "data.Prs *= 100"
   ]
  },
  {
   "cell_type": "code",
   "execution_count": 486,
   "metadata": {
    "ExecuteTime": {
     "end_time": "2018-09-11T18:35:43.638120Z",
     "start_time": "2018-09-11T18:35:43.635367Z"
    }
   },
   "outputs": [],
   "source": [
    "# for col in data:\n",
    "#     print('{}: {}, {}'.format(col,data[col].min(), data[col].max()))"
   ]
  },
  {
   "cell_type": "code",
   "execution_count": 487,
   "metadata": {
    "ExecuteTime": {
     "end_time": "2018-09-11T18:35:44.114335Z",
     "start_time": "2018-09-11T18:35:44.111648Z"
    }
   },
   "outputs": [],
   "source": [
    "# todo: this is only to match the number of values which is defined in the cdl file ... will try to adjust programmatically in the future\n",
    "# data = data.iloc[:-1,:] "
   ]
  },
  {
   "cell_type": "markdown",
   "metadata": {},
   "source": [
    "## change column names"
   ]
  },
  {
   "cell_type": "code",
   "execution_count": 488,
   "metadata": {
    "ExecuteTime": {
     "end_time": "2018-09-11T18:35:45.101780Z",
     "start_time": "2018-09-11T18:35:45.066985Z"
    }
   },
   "outputs": [],
   "source": [
    "columntransrules = {\n",
    " 'solar_zenith_angle':                                                  'Z',\n",
    " 'distance_from_sun':                                                   'AU',\n",
    " 'best_estimate_shortwave_irradiance':                                  'BESW',\n",
    " 'total_downwelling_shortwave_irradiance':                              'GSW',\n",
    " 'diffuse_downwelling_shortwave_irradiance':                            'DIF',\n",
    " 'direct_downwelling_shortwave_irradiance':                             'DIR',\n",
    " 'upwelling_shortwave_irradiance':                                      'SWup',\n",
    " 'downwelling_longwave_irradiance':                                     'LWdn',\n",
    " 'upwelling_longwave_irradiance':                                       'LWup',\n",
    " 'atmospheric_temperature':                                             'Ta',\n",
    " 'relative_humidity':                                                   'RH',\n",
    " 'surface_air_pressure':                                                'Prs',\n",
    " 'downwelling_longwave_case_temperature':                               'LWdTc',\n",
    " 'downwelling_longwave_dome_temperature':                               'LWdTd',\n",
    " 'upwelling_longwave_case_temperature':                                 'LWuTc',\n",
    " 'upwelling_longwave_dome_temperature':                                 'LWuTd',\n",
    " 'QC_flag_01_thresholds_global_shortwave':                              'qc1',\n",
    " 'QC_flag_02_thresholds_diffuse_shortwave':                             'qc2',\n",
    " 'QC_flag_03_thresholds_direct_shortwave':                              'qc3',\n",
    " 'QC_flag_04_thresholds_upwelling_shortwave':                           'qc4',\n",
    " 'QC_flag_05_thresholds_downwelling_longwave':                          'qc5',\n",
    " 'QC_flag_06_thresholds_upwelling_longwave':                            'qc6',\n",
    " 'QC_flag_07_global_shortwave_over_sum':                                'qc7',\n",
    " 'QC_flag_08_diffuse_over_global_shortwave':                            'qc8',\n",
    " 'QC_flag_09_upwelling_shortwave_versus_sum':                           'qc9',\n",
    " 'QC_flag_10_downwelling_longwave_to_temperature':                      'qc10',\n",
    " 'QC_flag_11_upwelling_longwave_to_temperature':                        'qc11',\n",
    " 'QC_flag_12_downwelling_longwave_to_upwelling_longwave':               'qc12',\n",
    " 'QC_flag_13_downwelling_longwave_case_temperature_vs_air_temperature': 'qc13',\n",
    " 'QC_flag_14_downwelling_longwave_dome_temperature_vs_air_temperature': 'qc14',\n",
    " 'QC_flag_15_upwelling_longwave_case_temperature_vs_air_temperature':   'qc15',\n",
    " 'QC_flag_16_upwelling_longwave_dome_temperature_vs_air_temperature':   'qc16',\n",
    " 'QC_flag_17_downwelling_longwave_case_temperature_vs_dome_temperature':'qc17',\n",
    " 'QC_flag_18_upwelling_longwave_case_temperature_vs_dome_temperature':  'qc18',\n",
    " 'QC_flag_19_air_temperature':                                          'qc19',\n",
    " 'global_shortwave_irloss_flag':                                        'gflg',\n",
    " 'diffuse_shortwave_irloss_flag':                                        'dflg',\n",
    " 'downwelling_shortwave_irradiance_assuming_clear_sky':                 'ClrSW',\n",
    " 'ir_loss_correction_to_diffuse_shortwave':                             'DifCorr',\n",
    " 'ir_loss_correction_to_global_shortwave':                              'GSWCorr',\n",
    " 'downwelling_erythemal_uvb_irradiance':                                'UVB_down',\n",
    " 'photosynthetically_active_radiation':                                 'PAR_dn',\n",
    " 'wind_speed':                                                          'WindSp',\n",
    " 'wind_direction':                                                      'WindDr',\n",
    "}\n",
    "\n",
    "location_values = { 'latitude': 40.05192,\n",
    "                    'longitude': 271.62692,\n",
    "                    'altitude': 230.}"
   ]
  },
  {
   "cell_type": "code",
   "execution_count": 489,
   "metadata": {
    "ExecuteTime": {
     "end_time": "2018-09-11T18:35:45.903878Z",
     "start_time": "2018-09-11T18:35:45.899876Z"
    }
   },
   "outputs": [],
   "source": [
    "columntransrules_rev = {v: k for k, v in columntransrules.items()}\n",
    "data.rename(columntransrules_rev, axis=1, inplace=True)"
   ]
  },
  {
   "cell_type": "code",
   "execution_count": 490,
   "metadata": {
    "ExecuteTime": {
     "end_time": "2018-09-11T18:35:46.238791Z",
     "start_time": "2018-09-11T18:35:46.210709Z"
    }
   },
   "outputs": [],
   "source": [
    "for col in data:\n",
    "    if 'float' in str(data[col].dtype):\n",
    "        data[col] = data[col].astype(np.float32)\n",
    "    elif 'int' in str(data[col].dtype):\n",
    "        data[col] = data[col].astype(np.int8)\n",
    "#     break\n",
    "#     data.ir_loss_correction_to_diffuse_shortwave.astype()"
   ]
  },
  {
   "cell_type": "markdown",
   "metadata": {},
   "source": [
    "## turn into dataset"
   ]
  },
  {
   "cell_type": "code",
   "execution_count": 541,
   "metadata": {
    "ExecuteTime": {
     "end_time": "2018-09-11T18:47:54.902476Z",
     "start_time": "2018-09-11T18:47:54.880828Z"
    }
   },
   "outputs": [],
   "source": [
    "ds = xr.Dataset(data, attrs=global_atts)"
   ]
  },
  {
   "cell_type": "code",
   "execution_count": 542,
   "metadata": {
    "ExecuteTime": {
     "end_time": "2018-09-11T18:47:55.330320Z",
     "start_time": "2018-09-11T18:47:55.325403Z"
    }
   },
   "outputs": [],
   "source": [
    "for var in ds.variables:\n",
    "    if var == 'time':\n",
    "        continue\n",
    "    atts = [v for v in varlist if v['name_nc'] == var][0]['attributes'].copy()\n",
    "#     for att in atts:\n",
    "#     print (atts)\n",
    "    if '_FillValue' in atts.keys():\n",
    "        if atts['_FillValue'] == 'NaNf':\n",
    "            atts['_FillValue'] = np.nan\n",
    "    ds.variables[var].attrs = atts\n",
    "#     break"
   ]
  },
  {
   "cell_type": "markdown",
   "metadata": {},
   "source": [
    "## set location values"
   ]
  },
  {
   "cell_type": "code",
   "execution_count": 543,
   "metadata": {
    "ExecuteTime": {
     "end_time": "2018-09-11T18:47:56.202605Z",
     "start_time": "2018-09-11T18:47:56.196153Z"
    }
   },
   "outputs": [],
   "source": [
    "for lv in location_values:\n",
    "    ds[lv] = location_values[lv]"
   ]
  },
  {
   "cell_type": "markdown",
   "metadata": {},
   "source": [
    "## set encoding"
   ]
  },
  {
   "cell_type": "code",
   "execution_count": 538,
   "metadata": {
    "ExecuteTime": {
     "end_time": "2018-09-11T18:47:40.667935Z",
     "start_time": "2018-09-11T18:47:40.658160Z"
    }
   },
   "outputs": [],
   "source": [
    "# turns out the compression results in a larger file tstststs\n",
    "for var in ds.variables:\n",
    "#     print(var)\n",
    "    enc = ds[var].encoding\n",
    "    enc['chunksizes'] = ds[var].shape#enc['original_shape']\n",
    "    enc['contiguous'] = False\n",
    "    enc['complevel'] = 9\n",
    "    enc['zlib'] = False\n",
    "#     # incase hdf5 is used at some point:\n",
    "#     enc['compression'] = 'gzip'\n",
    "#     enc['compression_opts'] = 9"
   ]
  },
  {
   "cell_type": "markdown",
   "metadata": {},
   "source": [
    "## save"
   ]
  },
  {
   "cell_type": "code",
   "execution_count": 544,
   "metadata": {
    "ExecuteTime": {
     "end_time": "2018-09-11T18:48:02.071609Z",
     "start_time": "2018-09-11T18:48:01.952887Z"
    }
   },
   "outputs": [],
   "source": [
    "# %%debug -b /Users/htelg/anaconda3/lib/python3.6/site-packages/xarray/backends/netCDF4_.py:281\n",
    "ds.to_netcdf('../data/Bondville_IL_1995_May_10.new.nc', \n",
    "             format = 'NETCDF4_CLASSIC',\n",
    "            )"
   ]
  },
  {
   "cell_type": "code",
   "execution_count": 545,
   "metadata": {
    "ExecuteTime": {
     "end_time": "2018-09-11T19:24:25.931060Z",
     "start_time": "2018-09-11T19:24:25.321195Z"
    }
   },
   "outputs": [
    {
     "data": {
      "text/plain": [
       "[<matplotlib.lines.Line2D at 0x10ddf6b38>]"
      ]
     },
     "execution_count": 545,
     "metadata": {},
     "output_type": "execute_result"
    },
    {
     "data": {
      "image/png": "[encoded data removed]",
      "text/plain": [
       "<Figure size 432x288 with 1 Axes>"
      ]
     },
     "metadata": {},
     "output_type": "display_data"
    }
   ],
   "source": [
    "ds.best_estimate_shortwave_irradiance.plot()"
   ]
  },
  {
   "cell_type": "code",
   "execution_count": null,
   "metadata": {},
   "outputs": [],
   "source": []
  },
  {
   "cell_type": "code",
   "execution_count": null,
   "metadata": {},
   "outputs": [],
   "source": []
  }
 ],
 "metadata": {
  "hide_input": false,
  "kernelspec": {
   "display_name": "Python 3",
   "language": "python",
   "name": "python3"
  },
  "language_info": {
   "codemirror_mode": {
    "name": "ipython",
    "version": 3
   },
   "file_extension": ".py",
   "mimetype": "text/x-python",
   "name": "python",
   "nbconvert_exporter": "python",
   "pygments_lexer": "ipython3",
   "version": "3.6.6"
  },
  "toc": {
   "nav_menu": {},
   "number_sections": true,
   "sideBar": true,
   "skip_h1_title": false,
   "toc_cell": false,
   "toc_position": {
    "height": "1161px",
    "left": "0px",
    "right": "2137px",
    "top": "159px",
    "width": "423px"
   },
   "toc_section_display": "block",
   "toc_window_display": true
  }
 },
 "nbformat": 4,
 "nbformat_minor": 2
}
